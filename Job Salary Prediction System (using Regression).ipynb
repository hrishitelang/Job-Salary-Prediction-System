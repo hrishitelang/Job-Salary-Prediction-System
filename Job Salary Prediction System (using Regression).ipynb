{
 "cells": [
  {
   "cell_type": "code",
   "execution_count": 1,
   "id": "b1fc4d8d",
   "metadata": {},
   "outputs": [],
   "source": [
    "import pandas as pd\n",
    "import numpy as np\n",
    "import seaborn as sns\n",
    "import matplotlib.pyplot as plt"
   ]
  },
  {
   "cell_type": "code",
   "execution_count": 2,
   "id": "1c1b5e12",
   "metadata": {},
   "outputs": [
    {
     "data": {
      "text/html": [
       "<div>\n",
       "<style scoped>\n",
       "    .dataframe tbody tr th:only-of-type {\n",
       "        vertical-align: middle;\n",
       "    }\n",
       "\n",
       "    .dataframe tbody tr th {\n",
       "        vertical-align: top;\n",
       "    }\n",
       "\n",
       "    .dataframe thead th {\n",
       "        text-align: right;\n",
       "    }\n",
       "</style>\n",
       "<table border=\"1\" class=\"dataframe\">\n",
       "  <thead>\n",
       "    <tr style=\"text-align: right;\">\n",
       "      <th></th>\n",
       "      <th>Id</th>\n",
       "      <th>Title</th>\n",
       "      <th>FullDescription</th>\n",
       "      <th>LocationRaw</th>\n",
       "      <th>LocationNormalized</th>\n",
       "      <th>ContractType</th>\n",
       "      <th>ContractTime</th>\n",
       "      <th>Company</th>\n",
       "      <th>Category</th>\n",
       "      <th>SalaryRaw</th>\n",
       "      <th>SalaryNormalized</th>\n",
       "      <th>SourceName</th>\n",
       "      <th>NUM_RAND</th>\n",
       "    </tr>\n",
       "  </thead>\n",
       "  <tbody>\n",
       "    <tr>\n",
       "      <th>0</th>\n",
       "      <td>69173058</td>\n",
       "      <td>Senior Support Worker</td>\n",
       "      <td>Senior Support Worker Wanted  A senior suppor...</td>\n",
       "      <td>Taunton, Somerset Somerset South West</td>\n",
       "      <td>Taunton</td>\n",
       "      <td>NaN</td>\n",
       "      <td>permanent</td>\n",
       "      <td>BROOK STREET BUREAU   Bristol Care</td>\n",
       "      <td>Healthcare &amp; Nursing Jobs</td>\n",
       "      <td>15931 - 17082 per annum</td>\n",
       "      <td>16506</td>\n",
       "      <td>totaljobs.com</td>\n",
       "      <td>0.267847</td>\n",
       "    </tr>\n",
       "    <tr>\n",
       "      <th>1</th>\n",
       "      <td>72450873</td>\n",
       "      <td>Statistical / Mathematical Modeller in Pharmac...</td>\n",
       "      <td>Statistical / Mathematical Modeller in Pharmac...</td>\n",
       "      <td>North West</td>\n",
       "      <td>North West London</td>\n",
       "      <td>NaN</td>\n",
       "      <td>permanent</td>\n",
       "      <td>SCI Recruitment for Scientists</td>\n",
       "      <td>Scientific &amp; QA Jobs</td>\n",
       "      <td>From 30,000 to 40,000 per annum 30-40K</td>\n",
       "      <td>35000</td>\n",
       "      <td>totaljobs.com</td>\n",
       "      <td>0.557455</td>\n",
       "    </tr>\n",
       "    <tr>\n",
       "      <th>2</th>\n",
       "      <td>68364211</td>\n",
       "      <td>EMC Team Leader (DEF STAN)</td>\n",
       "      <td>The Opportunity My client is currently seeking...</td>\n",
       "      <td>Surrey</td>\n",
       "      <td>Surrey</td>\n",
       "      <td>NaN</td>\n",
       "      <td>permanent</td>\n",
       "      <td>ADV Technical Services Limited</td>\n",
       "      <td>Engineering Jobs</td>\n",
       "      <td>45k + Bonus + Pension</td>\n",
       "      <td>45000</td>\n",
       "      <td>justengineers.net</td>\n",
       "      <td>0.529918</td>\n",
       "    </tr>\n",
       "    <tr>\n",
       "      <th>3</th>\n",
       "      <td>69556873</td>\n",
       "      <td>Core Java Engineer London, Big Data</td>\n",
       "      <td>Core Java Engineer  London, Big Data, MySQL, N...</td>\n",
       "      <td>UK London</td>\n",
       "      <td>London</td>\n",
       "      <td>NaN</td>\n",
       "      <td>permanent</td>\n",
       "      <td>Engage PSG</td>\n",
       "      <td>IT Jobs</td>\n",
       "      <td>55000 - 70000 per annum + Bens, Bonus (up to 2...</td>\n",
       "      <td>62500</td>\n",
       "      <td>careers4a.com</td>\n",
       "      <td>0.163741</td>\n",
       "    </tr>\n",
       "    <tr>\n",
       "      <th>4</th>\n",
       "      <td>71304393</td>\n",
       "      <td>driver</td>\n",
       "      <td>**** driver reqd for busy parcel round, experi...</td>\n",
       "      <td>Brentwood</td>\n",
       "      <td>Brentwood</td>\n",
       "      <td>full_time</td>\n",
       "      <td>NaN</td>\n",
       "      <td>K &amp; C Despatch</td>\n",
       "      <td>Logistics &amp; Warehouse Jobs</td>\n",
       "      <td>350.00 - 400.00 per week</td>\n",
       "      <td>18000</td>\n",
       "      <td>Jobcentre Plus</td>\n",
       "      <td>0.884189</td>\n",
       "    </tr>\n",
       "  </tbody>\n",
       "</table>\n",
       "</div>"
      ],
      "text/plain": [
       "         Id                                              Title  \\\n",
       "0  69173058                              Senior Support Worker   \n",
       "1  72450873  Statistical / Mathematical Modeller in Pharmac...   \n",
       "2  68364211                         EMC Team Leader (DEF STAN)   \n",
       "3  69556873                Core Java Engineer London, Big Data   \n",
       "4  71304393                                             driver   \n",
       "\n",
       "                                     FullDescription  \\\n",
       "0   Senior Support Worker Wanted  A senior suppor...   \n",
       "1  Statistical / Mathematical Modeller in Pharmac...   \n",
       "2  The Opportunity My client is currently seeking...   \n",
       "3  Core Java Engineer  London, Big Data, MySQL, N...   \n",
       "4  **** driver reqd for busy parcel round, experi...   \n",
       "\n",
       "                             LocationRaw LocationNormalized ContractType  \\\n",
       "0  Taunton, Somerset Somerset South West            Taunton          NaN   \n",
       "1                             North West  North West London          NaN   \n",
       "2                                 Surrey             Surrey          NaN   \n",
       "3                              UK London             London          NaN   \n",
       "4                              Brentwood          Brentwood    full_time   \n",
       "\n",
       "  ContractTime                             Company  \\\n",
       "0    permanent  BROOK STREET BUREAU   Bristol Care   \n",
       "1    permanent      SCI Recruitment for Scientists   \n",
       "2    permanent      ADV Technical Services Limited   \n",
       "3    permanent                          Engage PSG   \n",
       "4          NaN                      K & C Despatch   \n",
       "\n",
       "                     Category  \\\n",
       "0   Healthcare & Nursing Jobs   \n",
       "1        Scientific & QA Jobs   \n",
       "2            Engineering Jobs   \n",
       "3                     IT Jobs   \n",
       "4  Logistics & Warehouse Jobs   \n",
       "\n",
       "                                           SalaryRaw  SalaryNormalized  \\\n",
       "0                            15931 - 17082 per annum             16506   \n",
       "1             From 30,000 to 40,000 per annum 30-40K             35000   \n",
       "2                              45k + Bonus + Pension             45000   \n",
       "3  55000 - 70000 per annum + Bens, Bonus (up to 2...             62500   \n",
       "4                           350.00 - 400.00 per week             18000   \n",
       "\n",
       "          SourceName  NUM_RAND  \n",
       "0      totaljobs.com  0.267847  \n",
       "1      totaljobs.com  0.557455  \n",
       "2  justengineers.net  0.529918  \n",
       "3      careers4a.com  0.163741  \n",
       "4     Jobcentre Plus  0.884189  "
      ]
     },
     "execution_count": 2,
     "metadata": {},
     "output_type": "execute_result"
    }
   ],
   "source": [
    "data = pd.read_csv(\"project_train.csv\")\n",
    "data.head()"
   ]
  },
  {
   "cell_type": "code",
   "execution_count": 3,
   "id": "d770f685",
   "metadata": {},
   "outputs": [
    {
     "data": {
      "text/html": [
       "<div>\n",
       "<style scoped>\n",
       "    .dataframe tbody tr th:only-of-type {\n",
       "        vertical-align: middle;\n",
       "    }\n",
       "\n",
       "    .dataframe tbody tr th {\n",
       "        vertical-align: top;\n",
       "    }\n",
       "\n",
       "    .dataframe thead th {\n",
       "        text-align: right;\n",
       "    }\n",
       "</style>\n",
       "<table border=\"1\" class=\"dataframe\">\n",
       "  <thead>\n",
       "    <tr style=\"text-align: right;\">\n",
       "      <th></th>\n",
       "      <th>Id</th>\n",
       "      <th>SalaryNormalized</th>\n",
       "      <th>NUM_RAND</th>\n",
       "    </tr>\n",
       "  </thead>\n",
       "  <tbody>\n",
       "    <tr>\n",
       "      <th>count</th>\n",
       "      <td>5.999800e+04</td>\n",
       "      <td>59998.000000</td>\n",
       "      <td>59998.000000</td>\n",
       "    </tr>\n",
       "    <tr>\n",
       "      <th>mean</th>\n",
       "      <td>6.970365e+07</td>\n",
       "      <td>34005.098237</td>\n",
       "      <td>0.500709</td>\n",
       "    </tr>\n",
       "    <tr>\n",
       "      <th>std</th>\n",
       "      <td>3.109205e+06</td>\n",
       "      <td>17577.106859</td>\n",
       "      <td>0.288268</td>\n",
       "    </tr>\n",
       "    <tr>\n",
       "      <th>min</th>\n",
       "      <td>1.261263e+07</td>\n",
       "      <td>5000.000000</td>\n",
       "      <td>0.000003</td>\n",
       "    </tr>\n",
       "    <tr>\n",
       "      <th>25%</th>\n",
       "      <td>6.869579e+07</td>\n",
       "      <td>21500.000000</td>\n",
       "      <td>0.251659</td>\n",
       "    </tr>\n",
       "    <tr>\n",
       "      <th>50%</th>\n",
       "      <td>6.993757e+07</td>\n",
       "      <td>30000.000000</td>\n",
       "      <td>0.500822</td>\n",
       "    </tr>\n",
       "    <tr>\n",
       "      <th>75%</th>\n",
       "      <td>7.162840e+07</td>\n",
       "      <td>42500.000000</td>\n",
       "      <td>0.750809</td>\n",
       "    </tr>\n",
       "    <tr>\n",
       "      <th>max</th>\n",
       "      <td>7.270524e+07</td>\n",
       "      <td>200000.000000</td>\n",
       "      <td>0.999997</td>\n",
       "    </tr>\n",
       "  </tbody>\n",
       "</table>\n",
       "</div>"
      ],
      "text/plain": [
       "                 Id  SalaryNormalized      NUM_RAND\n",
       "count  5.999800e+04      59998.000000  59998.000000\n",
       "mean   6.970365e+07      34005.098237      0.500709\n",
       "std    3.109205e+06      17577.106859      0.288268\n",
       "min    1.261263e+07       5000.000000      0.000003\n",
       "25%    6.869579e+07      21500.000000      0.251659\n",
       "50%    6.993757e+07      30000.000000      0.500822\n",
       "75%    7.162840e+07      42500.000000      0.750809\n",
       "max    7.270524e+07     200000.000000      0.999997"
      ]
     },
     "execution_count": 3,
     "metadata": {},
     "output_type": "execute_result"
    }
   ],
   "source": [
    "data.describe()"
   ]
  },
  {
   "cell_type": "code",
   "execution_count": 4,
   "id": "4f444949",
   "metadata": {},
   "outputs": [],
   "source": [
    "data = data.drop('Id', axis=1)"
   ]
  },
  {
   "cell_type": "code",
   "execution_count": 5,
   "id": "edfae165",
   "metadata": {},
   "outputs": [
    {
     "data": {
      "text/html": [
       "<div>\n",
       "<style scoped>\n",
       "    .dataframe tbody tr th:only-of-type {\n",
       "        vertical-align: middle;\n",
       "    }\n",
       "\n",
       "    .dataframe tbody tr th {\n",
       "        vertical-align: top;\n",
       "    }\n",
       "\n",
       "    .dataframe thead th {\n",
       "        text-align: right;\n",
       "    }\n",
       "</style>\n",
       "<table border=\"1\" class=\"dataframe\">\n",
       "  <thead>\n",
       "    <tr style=\"text-align: right;\">\n",
       "      <th></th>\n",
       "      <th>Title</th>\n",
       "      <th>FullDescription</th>\n",
       "      <th>LocationRaw</th>\n",
       "      <th>LocationNormalized</th>\n",
       "      <th>ContractType</th>\n",
       "      <th>ContractTime</th>\n",
       "      <th>Company</th>\n",
       "      <th>Category</th>\n",
       "      <th>SalaryRaw</th>\n",
       "      <th>SalaryNormalized</th>\n",
       "      <th>SourceName</th>\n",
       "      <th>NUM_RAND</th>\n",
       "    </tr>\n",
       "  </thead>\n",
       "  <tbody>\n",
       "    <tr>\n",
       "      <th>0</th>\n",
       "      <td>Senior Support Worker</td>\n",
       "      <td>Senior Support Worker Wanted  A senior suppor...</td>\n",
       "      <td>Taunton, Somerset Somerset South West</td>\n",
       "      <td>Taunton</td>\n",
       "      <td>NaN</td>\n",
       "      <td>permanent</td>\n",
       "      <td>BROOK STREET BUREAU   Bristol Care</td>\n",
       "      <td>Healthcare &amp; Nursing Jobs</td>\n",
       "      <td>15931 - 17082 per annum</td>\n",
       "      <td>16506</td>\n",
       "      <td>totaljobs.com</td>\n",
       "      <td>0.267847</td>\n",
       "    </tr>\n",
       "    <tr>\n",
       "      <th>1</th>\n",
       "      <td>Statistical / Mathematical Modeller in Pharmac...</td>\n",
       "      <td>Statistical / Mathematical Modeller in Pharmac...</td>\n",
       "      <td>North West</td>\n",
       "      <td>North West London</td>\n",
       "      <td>NaN</td>\n",
       "      <td>permanent</td>\n",
       "      <td>SCI Recruitment for Scientists</td>\n",
       "      <td>Scientific &amp; QA Jobs</td>\n",
       "      <td>From 30,000 to 40,000 per annum 30-40K</td>\n",
       "      <td>35000</td>\n",
       "      <td>totaljobs.com</td>\n",
       "      <td>0.557455</td>\n",
       "    </tr>\n",
       "    <tr>\n",
       "      <th>2</th>\n",
       "      <td>EMC Team Leader (DEF STAN)</td>\n",
       "      <td>The Opportunity My client is currently seeking...</td>\n",
       "      <td>Surrey</td>\n",
       "      <td>Surrey</td>\n",
       "      <td>NaN</td>\n",
       "      <td>permanent</td>\n",
       "      <td>ADV Technical Services Limited</td>\n",
       "      <td>Engineering Jobs</td>\n",
       "      <td>45k + Bonus + Pension</td>\n",
       "      <td>45000</td>\n",
       "      <td>justengineers.net</td>\n",
       "      <td>0.529918</td>\n",
       "    </tr>\n",
       "    <tr>\n",
       "      <th>3</th>\n",
       "      <td>Core Java Engineer London, Big Data</td>\n",
       "      <td>Core Java Engineer  London, Big Data, MySQL, N...</td>\n",
       "      <td>UK London</td>\n",
       "      <td>London</td>\n",
       "      <td>NaN</td>\n",
       "      <td>permanent</td>\n",
       "      <td>Engage PSG</td>\n",
       "      <td>IT Jobs</td>\n",
       "      <td>55000 - 70000 per annum + Bens, Bonus (up to 2...</td>\n",
       "      <td>62500</td>\n",
       "      <td>careers4a.com</td>\n",
       "      <td>0.163741</td>\n",
       "    </tr>\n",
       "    <tr>\n",
       "      <th>4</th>\n",
       "      <td>driver</td>\n",
       "      <td>**** driver reqd for busy parcel round, experi...</td>\n",
       "      <td>Brentwood</td>\n",
       "      <td>Brentwood</td>\n",
       "      <td>full_time</td>\n",
       "      <td>NaN</td>\n",
       "      <td>K &amp; C Despatch</td>\n",
       "      <td>Logistics &amp; Warehouse Jobs</td>\n",
       "      <td>350.00 - 400.00 per week</td>\n",
       "      <td>18000</td>\n",
       "      <td>Jobcentre Plus</td>\n",
       "      <td>0.884189</td>\n",
       "    </tr>\n",
       "    <tr>\n",
       "      <th>...</th>\n",
       "      <td>...</td>\n",
       "      <td>...</td>\n",
       "      <td>...</td>\n",
       "      <td>...</td>\n",
       "      <td>...</td>\n",
       "      <td>...</td>\n",
       "      <td>...</td>\n",
       "      <td>...</td>\n",
       "      <td>...</td>\n",
       "      <td>...</td>\n",
       "      <td>...</td>\n",
       "      <td>...</td>\n",
       "    </tr>\n",
       "    <tr>\n",
       "      <th>59993</th>\n",
       "      <td>QSW  Adults</td>\n",
       "      <td>We are looking for **** x QSW s to join adults...</td>\n",
       "      <td>Lowestoft, Suffolk</td>\n",
       "      <td>Lowestoft</td>\n",
       "      <td>NaN</td>\n",
       "      <td>contract</td>\n",
       "      <td>Eden Brown</td>\n",
       "      <td>Social work Jobs</td>\n",
       "      <td>26.00 - 28.00/hour</td>\n",
       "      <td>51840</td>\n",
       "      <td>cv-library.co.uk</td>\n",
       "      <td>0.602224</td>\n",
       "    </tr>\n",
       "    <tr>\n",
       "      <th>59994</th>\n",
       "      <td>Embedded Software Engineer (C/C++ on Embedded ...</td>\n",
       "      <td>Embedded Software Engineer (C, C++ Embedded Li...</td>\n",
       "      <td>Cwmbran Gwent Wales</td>\n",
       "      <td>UK</td>\n",
       "      <td>NaN</td>\n",
       "      <td>permanent</td>\n",
       "      <td>JAM Recruitment Ltd.</td>\n",
       "      <td>IT Jobs</td>\n",
       "      <td>35000 - 45000 per annum + Pension, Healthcare ...</td>\n",
       "      <td>40000</td>\n",
       "      <td>totaljobs.com</td>\n",
       "      <td>0.382125</td>\n",
       "    </tr>\n",
       "    <tr>\n",
       "      <th>59995</th>\n",
       "      <td>Loading Shovel Drivers</td>\n",
       "      <td>Loading Shovel Drivers Needed Must have previo...</td>\n",
       "      <td>Reading, Berkshire, Berkshire</td>\n",
       "      <td>Reading</td>\n",
       "      <td>NaN</td>\n",
       "      <td>permanent</td>\n",
       "      <td>Logical Resources Recruitment Group Limited</td>\n",
       "      <td>Trade &amp; Construction Jobs</td>\n",
       "      <td>8.50 - 9.00/hour With Overtime Available</td>\n",
       "      <td>16800</td>\n",
       "      <td>cv-library.co.uk</td>\n",
       "      <td>0.769690</td>\n",
       "    </tr>\n",
       "    <tr>\n",
       "      <th>59996</th>\n",
       "      <td>Business Development Manager  Payroll  UK Wide...</td>\n",
       "      <td>Do you have at least **** year's proven softwa...</td>\n",
       "      <td>UK</td>\n",
       "      <td>UK</td>\n",
       "      <td>NaN</td>\n",
       "      <td>NaN</td>\n",
       "      <td>H2 Recruit</td>\n",
       "      <td>Sales Jobs</td>\n",
       "      <td>30000.00 - 40000.00 per annum</td>\n",
       "      <td>35000</td>\n",
       "      <td>salestarget.co.uk</td>\n",
       "      <td>0.924055</td>\n",
       "    </tr>\n",
       "    <tr>\n",
       "      <th>59997</th>\n",
       "      <td>Full Time Customer Telephony Role</td>\n",
       "      <td>We currently have fulltime vacancies for Custo...</td>\n",
       "      <td>Edinburgh, Central Scotland</td>\n",
       "      <td>UK</td>\n",
       "      <td>NaN</td>\n",
       "      <td>contract</td>\n",
       "      <td>Brookstreet UK</td>\n",
       "      <td>Accounting &amp; Finance Jobs</td>\n",
       "      <td>8/hour + shift uplift</td>\n",
       "      <td>15360</td>\n",
       "      <td>cv-library.co.uk</td>\n",
       "      <td>0.937018</td>\n",
       "    </tr>\n",
       "  </tbody>\n",
       "</table>\n",
       "<p>59998 rows × 12 columns</p>\n",
       "</div>"
      ],
      "text/plain": [
       "                                                   Title  \\\n",
       "0                                  Senior Support Worker   \n",
       "1      Statistical / Mathematical Modeller in Pharmac...   \n",
       "2                             EMC Team Leader (DEF STAN)   \n",
       "3                    Core Java Engineer London, Big Data   \n",
       "4                                                 driver   \n",
       "...                                                  ...   \n",
       "59993                                        QSW  Adults   \n",
       "59994  Embedded Software Engineer (C/C++ on Embedded ...   \n",
       "59995                             Loading Shovel Drivers   \n",
       "59996  Business Development Manager  Payroll  UK Wide...   \n",
       "59997                  Full Time Customer Telephony Role   \n",
       "\n",
       "                                         FullDescription  \\\n",
       "0       Senior Support Worker Wanted  A senior suppor...   \n",
       "1      Statistical / Mathematical Modeller in Pharmac...   \n",
       "2      The Opportunity My client is currently seeking...   \n",
       "3      Core Java Engineer  London, Big Data, MySQL, N...   \n",
       "4      **** driver reqd for busy parcel round, experi...   \n",
       "...                                                  ...   \n",
       "59993  We are looking for **** x QSW s to join adults...   \n",
       "59994  Embedded Software Engineer (C, C++ Embedded Li...   \n",
       "59995  Loading Shovel Drivers Needed Must have previo...   \n",
       "59996  Do you have at least **** year's proven softwa...   \n",
       "59997  We currently have fulltime vacancies for Custo...   \n",
       "\n",
       "                                 LocationRaw LocationNormalized ContractType  \\\n",
       "0      Taunton, Somerset Somerset South West            Taunton          NaN   \n",
       "1                                 North West  North West London          NaN   \n",
       "2                                     Surrey             Surrey          NaN   \n",
       "3                                  UK London             London          NaN   \n",
       "4                                  Brentwood          Brentwood    full_time   \n",
       "...                                      ...                ...          ...   \n",
       "59993                     Lowestoft, Suffolk          Lowestoft          NaN   \n",
       "59994                    Cwmbran Gwent Wales                 UK          NaN   \n",
       "59995          Reading, Berkshire, Berkshire            Reading          NaN   \n",
       "59996                                     UK                 UK          NaN   \n",
       "59997            Edinburgh, Central Scotland                 UK          NaN   \n",
       "\n",
       "      ContractTime                                      Company  \\\n",
       "0        permanent           BROOK STREET BUREAU   Bristol Care   \n",
       "1        permanent               SCI Recruitment for Scientists   \n",
       "2        permanent               ADV Technical Services Limited   \n",
       "3        permanent                                   Engage PSG   \n",
       "4              NaN                               K & C Despatch   \n",
       "...            ...                                          ...   \n",
       "59993     contract                                   Eden Brown   \n",
       "59994    permanent                         JAM Recruitment Ltd.   \n",
       "59995    permanent  Logical Resources Recruitment Group Limited   \n",
       "59996          NaN                                   H2 Recruit   \n",
       "59997     contract                               Brookstreet UK   \n",
       "\n",
       "                         Category  \\\n",
       "0       Healthcare & Nursing Jobs   \n",
       "1            Scientific & QA Jobs   \n",
       "2                Engineering Jobs   \n",
       "3                         IT Jobs   \n",
       "4      Logistics & Warehouse Jobs   \n",
       "...                           ...   \n",
       "59993            Social work Jobs   \n",
       "59994                     IT Jobs   \n",
       "59995   Trade & Construction Jobs   \n",
       "59996                  Sales Jobs   \n",
       "59997   Accounting & Finance Jobs   \n",
       "\n",
       "                                               SalaryRaw  SalaryNormalized  \\\n",
       "0                                15931 - 17082 per annum             16506   \n",
       "1                 From 30,000 to 40,000 per annum 30-40K             35000   \n",
       "2                                  45k + Bonus + Pension             45000   \n",
       "3      55000 - 70000 per annum + Bens, Bonus (up to 2...             62500   \n",
       "4                               350.00 - 400.00 per week             18000   \n",
       "...                                                  ...               ...   \n",
       "59993                                 26.00 - 28.00/hour             51840   \n",
       "59994  35000 - 45000 per annum + Pension, Healthcare ...             40000   \n",
       "59995           8.50 - 9.00/hour With Overtime Available             16800   \n",
       "59996                      30000.00 - 40000.00 per annum             35000   \n",
       "59997                              8/hour + shift uplift             15360   \n",
       "\n",
       "              SourceName  NUM_RAND  \n",
       "0          totaljobs.com  0.267847  \n",
       "1          totaljobs.com  0.557455  \n",
       "2      justengineers.net  0.529918  \n",
       "3          careers4a.com  0.163741  \n",
       "4         Jobcentre Plus  0.884189  \n",
       "...                  ...       ...  \n",
       "59993   cv-library.co.uk  0.602224  \n",
       "59994      totaljobs.com  0.382125  \n",
       "59995   cv-library.co.uk  0.769690  \n",
       "59996  salestarget.co.uk  0.924055  \n",
       "59997   cv-library.co.uk  0.937018  \n",
       "\n",
       "[59998 rows x 12 columns]"
      ]
     },
     "execution_count": 5,
     "metadata": {},
     "output_type": "execute_result"
    }
   ],
   "source": [
    "data"
   ]
  },
  {
   "cell_type": "code",
   "execution_count": 6,
   "id": "e3ab4989",
   "metadata": {},
   "outputs": [
    {
     "data": {
      "text/plain": [
       "totaljobs.com                        11921\n",
       "cv-library.co.uk                      8367\n",
       "Jobcentre Plus                        4374\n",
       "jobsite.co.uk                         2891\n",
       "cwjobs.co.uk                          1714\n",
       "                                     ...  \n",
       "retailweekjobs.com                       2\n",
       "jobs4journaliststemp.madgexjb.com        1\n",
       "miningjobsearch.com                      1\n",
       "eastmidlandsjobs.co.uk                   1\n",
       "zartis.com                               1\n",
       "Name: SourceName, Length: 159, dtype: int64"
      ]
     },
     "execution_count": 6,
     "metadata": {},
     "output_type": "execute_result"
    }
   ],
   "source": [
    "data['SourceName'].value_counts()"
   ]
  },
  {
   "cell_type": "code",
   "execution_count": 7,
   "id": "418188e3",
   "metadata": {},
   "outputs": [],
   "source": [
    "data = data.drop('NUM_RAND', axis=1)"
   ]
  },
  {
   "cell_type": "code",
   "execution_count": 8,
   "id": "101fd97a",
   "metadata": {},
   "outputs": [
    {
     "data": {
      "text/html": [
       "<div>\n",
       "<style scoped>\n",
       "    .dataframe tbody tr th:only-of-type {\n",
       "        vertical-align: middle;\n",
       "    }\n",
       "\n",
       "    .dataframe tbody tr th {\n",
       "        vertical-align: top;\n",
       "    }\n",
       "\n",
       "    .dataframe thead th {\n",
       "        text-align: right;\n",
       "    }\n",
       "</style>\n",
       "<table border=\"1\" class=\"dataframe\">\n",
       "  <thead>\n",
       "    <tr style=\"text-align: right;\">\n",
       "      <th></th>\n",
       "      <th>Title</th>\n",
       "      <th>FullDescription</th>\n",
       "      <th>LocationRaw</th>\n",
       "      <th>LocationNormalized</th>\n",
       "      <th>ContractType</th>\n",
       "      <th>ContractTime</th>\n",
       "      <th>Company</th>\n",
       "      <th>Category</th>\n",
       "      <th>SalaryRaw</th>\n",
       "      <th>SalaryNormalized</th>\n",
       "      <th>SourceName</th>\n",
       "    </tr>\n",
       "  </thead>\n",
       "  <tbody>\n",
       "    <tr>\n",
       "      <th>0</th>\n",
       "      <td>Senior Support Worker</td>\n",
       "      <td>Senior Support Worker Wanted  A senior suppor...</td>\n",
       "      <td>Taunton, Somerset Somerset South West</td>\n",
       "      <td>Taunton</td>\n",
       "      <td>NaN</td>\n",
       "      <td>permanent</td>\n",
       "      <td>BROOK STREET BUREAU   Bristol Care</td>\n",
       "      <td>Healthcare &amp; Nursing Jobs</td>\n",
       "      <td>15931 - 17082 per annum</td>\n",
       "      <td>16506</td>\n",
       "      <td>totaljobs.com</td>\n",
       "    </tr>\n",
       "    <tr>\n",
       "      <th>1</th>\n",
       "      <td>Statistical / Mathematical Modeller in Pharmac...</td>\n",
       "      <td>Statistical / Mathematical Modeller in Pharmac...</td>\n",
       "      <td>North West</td>\n",
       "      <td>North West London</td>\n",
       "      <td>NaN</td>\n",
       "      <td>permanent</td>\n",
       "      <td>SCI Recruitment for Scientists</td>\n",
       "      <td>Scientific &amp; QA Jobs</td>\n",
       "      <td>From 30,000 to 40,000 per annum 30-40K</td>\n",
       "      <td>35000</td>\n",
       "      <td>totaljobs.com</td>\n",
       "    </tr>\n",
       "    <tr>\n",
       "      <th>2</th>\n",
       "      <td>EMC Team Leader (DEF STAN)</td>\n",
       "      <td>The Opportunity My client is currently seeking...</td>\n",
       "      <td>Surrey</td>\n",
       "      <td>Surrey</td>\n",
       "      <td>NaN</td>\n",
       "      <td>permanent</td>\n",
       "      <td>ADV Technical Services Limited</td>\n",
       "      <td>Engineering Jobs</td>\n",
       "      <td>45k + Bonus + Pension</td>\n",
       "      <td>45000</td>\n",
       "      <td>justengineers.net</td>\n",
       "    </tr>\n",
       "    <tr>\n",
       "      <th>3</th>\n",
       "      <td>Core Java Engineer London, Big Data</td>\n",
       "      <td>Core Java Engineer  London, Big Data, MySQL, N...</td>\n",
       "      <td>UK London</td>\n",
       "      <td>London</td>\n",
       "      <td>NaN</td>\n",
       "      <td>permanent</td>\n",
       "      <td>Engage PSG</td>\n",
       "      <td>IT Jobs</td>\n",
       "      <td>55000 - 70000 per annum + Bens, Bonus (up to 2...</td>\n",
       "      <td>62500</td>\n",
       "      <td>careers4a.com</td>\n",
       "    </tr>\n",
       "    <tr>\n",
       "      <th>4</th>\n",
       "      <td>driver</td>\n",
       "      <td>**** driver reqd for busy parcel round, experi...</td>\n",
       "      <td>Brentwood</td>\n",
       "      <td>Brentwood</td>\n",
       "      <td>full_time</td>\n",
       "      <td>NaN</td>\n",
       "      <td>K &amp; C Despatch</td>\n",
       "      <td>Logistics &amp; Warehouse Jobs</td>\n",
       "      <td>350.00 - 400.00 per week</td>\n",
       "      <td>18000</td>\n",
       "      <td>Jobcentre Plus</td>\n",
       "    </tr>\n",
       "  </tbody>\n",
       "</table>\n",
       "</div>"
      ],
      "text/plain": [
       "                                               Title  \\\n",
       "0                              Senior Support Worker   \n",
       "1  Statistical / Mathematical Modeller in Pharmac...   \n",
       "2                         EMC Team Leader (DEF STAN)   \n",
       "3                Core Java Engineer London, Big Data   \n",
       "4                                             driver   \n",
       "\n",
       "                                     FullDescription  \\\n",
       "0   Senior Support Worker Wanted  A senior suppor...   \n",
       "1  Statistical / Mathematical Modeller in Pharmac...   \n",
       "2  The Opportunity My client is currently seeking...   \n",
       "3  Core Java Engineer  London, Big Data, MySQL, N...   \n",
       "4  **** driver reqd for busy parcel round, experi...   \n",
       "\n",
       "                             LocationRaw LocationNormalized ContractType  \\\n",
       "0  Taunton, Somerset Somerset South West            Taunton          NaN   \n",
       "1                             North West  North West London          NaN   \n",
       "2                                 Surrey             Surrey          NaN   \n",
       "3                              UK London             London          NaN   \n",
       "4                              Brentwood          Brentwood    full_time   \n",
       "\n",
       "  ContractTime                             Company  \\\n",
       "0    permanent  BROOK STREET BUREAU   Bristol Care   \n",
       "1    permanent      SCI Recruitment for Scientists   \n",
       "2    permanent      ADV Technical Services Limited   \n",
       "3    permanent                          Engage PSG   \n",
       "4          NaN                      K & C Despatch   \n",
       "\n",
       "                     Category  \\\n",
       "0   Healthcare & Nursing Jobs   \n",
       "1        Scientific & QA Jobs   \n",
       "2            Engineering Jobs   \n",
       "3                     IT Jobs   \n",
       "4  Logistics & Warehouse Jobs   \n",
       "\n",
       "                                           SalaryRaw  SalaryNormalized  \\\n",
       "0                            15931 - 17082 per annum             16506   \n",
       "1             From 30,000 to 40,000 per annum 30-40K             35000   \n",
       "2                              45k + Bonus + Pension             45000   \n",
       "3  55000 - 70000 per annum + Bens, Bonus (up to 2...             62500   \n",
       "4                           350.00 - 400.00 per week             18000   \n",
       "\n",
       "          SourceName  \n",
       "0      totaljobs.com  \n",
       "1      totaljobs.com  \n",
       "2  justengineers.net  \n",
       "3      careers4a.com  \n",
       "4     Jobcentre Plus  "
      ]
     },
     "execution_count": 8,
     "metadata": {},
     "output_type": "execute_result"
    }
   ],
   "source": [
    "data.head()"
   ]
  },
  {
   "cell_type": "code",
   "execution_count": 9,
   "id": "b7a7ad52",
   "metadata": {},
   "outputs": [
    {
     "data": {
      "text/plain": [
       "59998"
      ]
     },
     "execution_count": 9,
     "metadata": {},
     "output_type": "execute_result"
    }
   ],
   "source": [
    "len(data)"
   ]
  },
  {
   "cell_type": "code",
   "execution_count": 10,
   "id": "8ff3299e",
   "metadata": {},
   "outputs": [
    {
     "data": {
      "text/plain": [
       "(59998, 11)"
      ]
     },
     "execution_count": 10,
     "metadata": {},
     "output_type": "execute_result"
    }
   ],
   "source": [
    "data.shape"
   ]
  },
  {
   "cell_type": "markdown",
   "id": "73c0824e",
   "metadata": {},
   "source": [
    "# Exploratory Data Analysis:"
   ]
  },
  {
   "cell_type": "code",
   "execution_count": 11,
   "id": "8a82756a",
   "metadata": {},
   "outputs": [
    {
     "name": "stdout",
     "output_type": "stream",
     "text": [
      "<class 'pandas.core.frame.DataFrame'>\n",
      "RangeIndex: 59998 entries, 0 to 59997\n",
      "Data columns (total 11 columns):\n",
      " #   Column              Non-Null Count  Dtype \n",
      "---  ------              --------------  ----- \n",
      " 0   Title               59997 non-null  object\n",
      " 1   FullDescription     59998 non-null  object\n",
      " 2   LocationRaw         59998 non-null  object\n",
      " 3   LocationNormalized  59998 non-null  object\n",
      " 4   ContractType        16071 non-null  object\n",
      " 5   ContractTime        44191 non-null  object\n",
      " 6   Company             52108 non-null  object\n",
      " 7   Category            59998 non-null  object\n",
      " 8   SalaryRaw           59998 non-null  object\n",
      " 9   SalaryNormalized    59998 non-null  int64 \n",
      " 10  SourceName          59998 non-null  object\n",
      "dtypes: int64(1), object(10)\n",
      "memory usage: 5.0+ MB\n"
     ]
    }
   ],
   "source": [
    "#Checking the datatype of the dataset\n",
    "data.info()"
   ]
  },
  {
   "cell_type": "code",
   "execution_count": 12,
   "id": "7bf04ec3",
   "metadata": {},
   "outputs": [
    {
     "data": {
      "text/plain": [
       "array(['totaljobs.com', 'justengineers.net', 'careers4a.com',\n",
       "       'Jobcentre Plus', 'cv-library.co.uk', 'caterer.com',\n",
       "       'jobserve.com', 'jobs.communitycare.co.uk', 'ukstaffsearch.com',\n",
       "       'PR Week Jobs', 'peoplemanagement.co.uk', 'retailchoice.com',\n",
       "       'jobsincredit.com', 'fish4.co.uk', 'hays.co.uk', 'cwjobs.co.uk',\n",
       "       'careersinrecruitment.com', 'london4jobs.co.uk',\n",
       "       'michaelpage.co.uk', 'staffnurse.com', 'jobs.guardian.co.uk',\n",
       "       'jobg8.com', 'salestarget.co.uk', 'MyUkJobs', 'contractjobs.com',\n",
       "       'jobsineducation.co.uk', 'jobsite.co.uk', 'strike-jobs.co.uk',\n",
       "       'careerstructure.com', 'londonjobs.co.uk', 'rengineeringjobs.com',\n",
       "       'legalprospects.com', 'cvbrowser.com', 'jobstoday.co.uk',\n",
       "       'eFinancialCareers', 'charityjob.co.uk', 'tntjobs.co.uk',\n",
       "       'gojobsearch.co.uk', 'oilandgasjobsearch.com',\n",
       "       'jobs.catererandhotelkeeper.com', 'icaewjobs.com',\n",
       "       'allhousingjobs.co.uk', 'GAAPweb', 'jobsinscotland.com',\n",
       "       'legalweekjobs.com', 'frontofficebanking.com', 'careerbuilder.com',\n",
       "       'technojobs.co.uk', 'Third Sector Jobs', 'ncejobs.co.uk',\n",
       "       'traveljobsearch.com', 'leisurejobs.com',\n",
       "       'jobs.electronicsweekly.com', 'jobs.newstatesman.com',\n",
       "       'jobs.thegrocer.co.uk', 'Personneltoday Jobs', 'planetrecruit.com',\n",
       "       'nijobs.com', 'careworx.co.uk', 'thecareerengineer.com',\n",
       "       'simplyhrjobs.co.uk', 'jobs4medical.co.uk', 'nursingtimesjobs.com',\n",
       "       'simplymarketingjobs.co.uk', 'jobs.scot.nhs.uk',\n",
       "       'nijobfinder.co.uk', 'Multilingualvacancies',\n",
       "       'simplysalesjobs.co.uk', 'jobsfinancial.com',\n",
       "       'onlymarketingjobs.com', 'careersinaudit.com', 'theladders.co.uk',\n",
       "       'britishjobsonthe.net', 'theitjobboard.co.uk', 'JustLondonJobs',\n",
       "       'energygenerationjobs.com', 'jobs.foodmanufacture.co.uk',\n",
       "       'SecsintheCity', 'jobs.opticianonline.net',\n",
       "       'securityclearedjobs.com', 'Brand Republic Jobs', 'cityjobs.com',\n",
       "       'jobs.telegraph.co.uk', 'newscientistjobs.com',\n",
       "       'nurseryworldjobs.co.uk', 'careersinconstruction.com',\n",
       "       'findababysitter.com', 'ijobs', 'TotallyLegal',\n",
       "       'myjobs.cimaglobal.com', 'jobs.perl.org', 'accountancyagejobs.com',\n",
       "       'emedcareers.com', 'recruitni.com', 'rcnbulletinjobs.co.uk',\n",
       "       'access-sciencejobs.co.uk', 'onlineinsurancejobs.co.uk', 'Elance',\n",
       "       'OilCareers.com', 'Jobs Ac', 'horticulturejobs.co.uk',\n",
       "       'propertyjobs.co.uk', 'cypnowjobs.co.uk', 'insurancejobs.co.uk',\n",
       "       'mediaweekjobs.co.uk', 'Jobs24', 'professionalpensionsjobs.com',\n",
       "       'jobsinrisk.com', 'jobs.bighospitality.co.uk',\n",
       "       'ifaonlinejobs.co.uk', 'juniorbroker.com', 'hotrecruit.com',\n",
       "       'wileyjobnetwork.com', 'TotallyExec', 'gorkanajobs.co.uk',\n",
       "       'workthing.com', 'drapersjobs.com', 'Teaching jobs - TES Connect',\n",
       "       'JobSearch', 'jobs.travelweekly.co.uk', '3desk.com',\n",
       "       'randstadfp.com', 'rtmjobs.com', 'grb.uk.com',\n",
       "       'renewableenergyjobs.com', 'Euro Supply Chain Jobs',\n",
       "       'broadcastjobs.co.uk', 'jobs.planningresource.co.uk',\n",
       "       'emptylemon.co.uk', 'scotsman.com', 'jobs.printweek.com',\n",
       "       'greatbritishjobs.co.uk', 'hsjjobs.com', 'jobs.fwi.co.uk',\n",
       "       'targetjobs.co.uk', 'discoverretail.co.uk', 'eventjobsearch.co.uk',\n",
       "       'Inspiring Interns', 'simplyofficejobs.co.uk', 'actuaryjobs.co.uk',\n",
       "       'jobsinsocialwork.co.uk', 'renewablescareers.com',\n",
       "       'jobs4journaliststemp.madgexjb.com', 'jobs.chinwag.com',\n",
       "       'endsjobsearch.co.uk', 'uksport.gov.uk', 'jobstheword.co.uk',\n",
       "       'jobs.economist.com', 'windindustryjobs.com', 'jobs.gponline.com',\n",
       "       'wikijob.co.uk', 'journalism.co.uk', 'ikrut.com',\n",
       "       'cardandpaymentjobs.com', 'retailweekjobs.com',\n",
       "       'thegraduate.co.uk', 'miningjobsearch.com',\n",
       "       'eastmidlandsjobs.co.uk', 'zartis.com'], dtype=object)"
      ]
     },
     "execution_count": 12,
     "metadata": {},
     "output_type": "execute_result"
    }
   ],
   "source": [
    "data['SourceName'].unique()"
   ]
  },
  {
   "cell_type": "code",
   "execution_count": 13,
   "id": "19654f1c",
   "metadata": {},
   "outputs": [
    {
     "data": {
      "text/plain": [
       "Title                     1\n",
       "FullDescription           0\n",
       "LocationRaw               0\n",
       "LocationNormalized        0\n",
       "ContractType          43927\n",
       "ContractTime          15807\n",
       "Company                7890\n",
       "Category                  0\n",
       "SalaryRaw                 0\n",
       "SalaryNormalized          0\n",
       "SourceName                0\n",
       "dtype: int64"
      ]
     },
     "execution_count": 13,
     "metadata": {},
     "output_type": "execute_result"
    }
   ],
   "source": [
    "data.isna().sum()"
   ]
  },
  {
   "cell_type": "code",
   "execution_count": 14,
   "id": "c66516a2",
   "metadata": {},
   "outputs": [
    {
     "data": {
      "text/plain": [
       "count     59998.000000\n",
       "mean      34005.098237\n",
       "std       17577.106859\n",
       "min        5000.000000\n",
       "25%       21500.000000\n",
       "50%       30000.000000\n",
       "75%       42500.000000\n",
       "max      200000.000000\n",
       "Name: SalaryNormalized, dtype: float64"
      ]
     },
     "execution_count": 14,
     "metadata": {},
     "output_type": "execute_result"
    }
   ],
   "source": [
    "data['SalaryNormalized'].describe()"
   ]
  },
  {
   "cell_type": "code",
   "execution_count": 15,
   "id": "6dd8e3e2",
   "metadata": {},
   "outputs": [
    {
     "data": {
      "text/plain": [
       "Text(0.5, 1.0, 'Histogram of Salaries')"
      ]
     },
     "execution_count": 15,
     "metadata": {},
     "output_type": "execute_result"
    },
    {
     "data": {
      "image/png": "[encoded data removed]",
      "text/plain": [
       "<Figure size 1560x650 with 1 Axes>"
      ]
     },
     "metadata": {
      "needs_background": "light"
     },
     "output_type": "display_data"
    }
   ],
   "source": [
    "# Distribution of salaries based on the train data\n",
    "plt.figure(figsize=(12,5), dpi=130)\n",
    "plt.hist(data['SalaryNormalized'], bins='auto')\n",
    "plt.xlabel('Salaries')\n",
    "plt.ylabel('Number of postings')\n",
    "plt.title('Histogram of Salaries')"
   ]
  },
  {
   "cell_type": "code",
   "execution_count": 16,
   "id": "0b18f7d3",
   "metadata": {},
   "outputs": [
    {
     "name": "stderr",
     "output_type": "stream",
     "text": [
      "/Users/hrishitelang/opt/anaconda3/lib/python3.9/site-packages/seaborn/distributions.py:2619: FutureWarning: `distplot` is a deprecated function and will be removed in a future version. Please adapt your code to use either `displot` (a figure-level function with similar flexibility) or `histplot` (an axes-level function for histograms).\n",
      "  warnings.warn(msg, FutureWarning)\n"
     ]
    },
    {
     "data": {
      "text/plain": [
       "<AxesSubplot:ylabel='Density'>"
      ]
     },
     "execution_count": 16,
     "metadata": {},
     "output_type": "execute_result"
    },
    {
     "data": {
      "image/png": "[encoded data removed]",
      "text/plain": [
       "<Figure size 1560x650 with 1 Axes>"
      ]
     },
     "metadata": {
      "needs_background": "light"
     },
     "output_type": "display_data"
    }
   ],
   "source": [
    "plt.figure(figsize=(12,5), dpi=130)\n",
    "sns.distplot(x=data['SalaryNormalized'], bins=100)"
   ]
  },
  {
   "cell_type": "code",
   "execution_count": 17,
   "id": "b2a145a9",
   "metadata": {},
   "outputs": [],
   "source": [
    "# Randomly selecting 2500 rows to train the classifier\n",
    "import random\n",
    "random.seed(1)\n",
    "indices = list(data.index.values)\n",
    "random_2500 = random.sample(indices,2500)\n",
    "\n",
    "# Subsetting the train data based on the random indices\n",
    "sample = data.loc[random_2500].reset_index()"
   ]
  },
  {
   "cell_type": "code",
   "execution_count": 18,
   "id": "6d0b1058",
   "metadata": {},
   "outputs": [
    {
     "data": {
      "text/plain": [
       "Text(0.5, 1.0, 'Histogram of Salaries')"
      ]
     },
     "execution_count": 18,
     "metadata": {},
     "output_type": "execute_result"
    },
    {
     "data": {
      "image/png": "[encoded data removed]",
      "text/plain": [
       "<Figure size 1560x650 with 1 Axes>"
      ]
     },
     "metadata": {
      "needs_background": "light"
     },
     "output_type": "display_data"
    }
   ],
   "source": [
    "plt.figure(figsize=(12,5), dpi=130)\n",
    "plt.hist(sample['SalaryNormalized'], bins='auto')\n",
    "plt.xlabel('Salaries')\n",
    "plt.ylabel('Number of postings')\n",
    "plt.title('Histogram of Salaries')"
   ]
  },
  {
   "cell_type": "code",
   "execution_count": 19,
   "id": "eefc10dc",
   "metadata": {},
   "outputs": [
    {
     "data": {
      "text/plain": [
       "Title                     1\n",
       "FullDescription           0\n",
       "LocationRaw               0\n",
       "LocationNormalized        0\n",
       "ContractType          43927\n",
       "ContractTime          15807\n",
       "Company                7890\n",
       "Category                  0\n",
       "SalaryRaw                 0\n",
       "SalaryNormalized          0\n",
       "SourceName                0\n",
       "dtype: int64"
      ]
     },
     "execution_count": 19,
     "metadata": {},
     "output_type": "execute_result"
    }
   ],
   "source": [
    "data.isna().sum()"
   ]
  },
  {
   "cell_type": "code",
   "execution_count": 20,
   "id": "ac89b719",
   "metadata": {},
   "outputs": [],
   "source": [
    "data[\"Title\"] = data[\"Title\"].apply(lambda item: str(item).lower())"
   ]
  },
  {
   "cell_type": "code",
   "execution_count": 21,
   "id": "d2146eb9",
   "metadata": {},
   "outputs": [
    {
     "data": {
      "text/plain": [
       "41645"
      ]
     },
     "execution_count": 21,
     "metadata": {},
     "output_type": "execute_result"
    }
   ],
   "source": [
    "len(data[\"Title\"].unique())"
   ]
  },
  {
   "cell_type": "code",
   "execution_count": 22,
   "id": "7d4c6a5d",
   "metadata": {},
   "outputs": [
    {
     "data": {
      "text/plain": [
       "business development manager      230\n",
       "project manager                   189\n",
       "management accountant             175\n",
       "sales executive                   144\n",
       "cleaner                           139\n",
       "mechanical design engineer        120\n",
       "assistant manager                 119\n",
       "administrator                     118\n",
       "account manager                   117\n",
       "recruitment consultant            110\n",
       "finance manager                   109\n",
       "credit controller                 109\n",
       "accounts assistant                102\n",
       "financial controller               92\n",
       "sales manager                      89\n",
       "marketing manager                  88\n",
       "chef de partie                     84\n",
       "quantity surveyor                  77\n",
       "project engineer                   77\n",
       "store manager                      75\n",
       "support worker                     74\n",
       "quality engineer                   70\n",
       "business analyst                   69\n",
       "purchase ledger clerk              67\n",
       "deputy manager                     65\n",
       "java developer                     63\n",
       "design engineer                    63\n",
       "hr manager                         60\n",
       "staff nurse                        60\n",
       "maintenance engineer               59\n",
       "sales administrator                58\n",
       "graduate sales executive           58\n",
       "marketing executive                58\n",
       "cleaning operative                 58\n",
       "assistant accountant               56\n",
       "business development executive     55\n",
       "telesales executive                55\n",
       "operations manager                 53\n",
       "financial accountant               53\n",
       "hr advisor                         53\n",
       "labourer                           52\n",
       "field service engineer             52\n",
       "net developer                      50\n",
       "care assistant                     50\n",
       "hr business partner                49\n",
       "php developer                      49\n",
       "area sales manager                 49\n",
       "receptionist                       49\n",
       "general manager                    48\n",
       "field sales executive              47\n",
       "Name: Title, dtype: int64"
      ]
     },
     "execution_count": 22,
     "metadata": {},
     "output_type": "execute_result"
    }
   ],
   "source": [
    "data[\"Title\"].value_counts()[:50]"
   ]
  },
  {
   "cell_type": "code",
   "execution_count": 23,
   "id": "7a5b2355",
   "metadata": {},
   "outputs": [
    {
     "name": "stderr",
     "output_type": "stream",
     "text": [
      "/Users/hrishitelang/opt/anaconda3/lib/python3.9/site-packages/seaborn/distributions.py:2619: FutureWarning: `distplot` is a deprecated function and will be removed in a future version. Please adapt your code to use either `displot` (a figure-level function with similar flexibility) or `histplot` (an axes-level function for histograms).\n",
      "  warnings.warn(msg, FutureWarning)\n"
     ]
    },
    {
     "data": {
      "text/plain": [
       "<AxesSubplot:ylabel='Density'>"
      ]
     },
     "execution_count": 23,
     "metadata": {},
     "output_type": "execute_result"
    },
    {
     "data": {
      "image/png": "[encoded data removed]",
      "text/plain": [
       "<Figure size 1560x650 with 1 Axes>"
      ]
     },
     "metadata": {
      "needs_background": "light"
     },
     "output_type": "display_data"
    }
   ],
   "source": [
    "a = data[data[\"Title\"] == 'business development manager']\n",
    "plt.figure(figsize=(12,5), dpi=130)\n",
    "sns.distplot(x=a['SalaryNormalized'], bins=100)"
   ]
  },
  {
   "cell_type": "code",
   "execution_count": 24,
   "id": "b22b2219",
   "metadata": {},
   "outputs": [
    {
     "name": "stderr",
     "output_type": "stream",
     "text": [
      "/Users/hrishitelang/opt/anaconda3/lib/python3.9/site-packages/seaborn/distributions.py:2619: FutureWarning: `distplot` is a deprecated function and will be removed in a future version. Please adapt your code to use either `displot` (a figure-level function with similar flexibility) or `histplot` (an axes-level function for histograms).\n",
      "  warnings.warn(msg, FutureWarning)\n"
     ]
    },
    {
     "data": {
      "text/plain": [
       "<AxesSubplot:ylabel='Density'>"
      ]
     },
     "execution_count": 24,
     "metadata": {},
     "output_type": "execute_result"
    },
    {
     "data": {
      "image/png": "[encoded data removed]",
      "text/plain": [
       "<Figure size 1560x650 with 1 Axes>"
      ]
     },
     "metadata": {
      "needs_background": "light"
     },
     "output_type": "display_data"
    }
   ],
   "source": [
    "a = data[data[\"Title\"] == 'project manager']\n",
    "plt.figure(figsize=(12,5), dpi=130)\n",
    "sns.distplot(x=a['SalaryNormalized'], bins=100)"
   ]
  },
  {
   "cell_type": "code",
   "execution_count": 25,
   "id": "50846191",
   "metadata": {},
   "outputs": [
    {
     "name": "stderr",
     "output_type": "stream",
     "text": [
      "/Users/hrishitelang/opt/anaconda3/lib/python3.9/site-packages/seaborn/distributions.py:2619: FutureWarning: `distplot` is a deprecated function and will be removed in a future version. Please adapt your code to use either `displot` (a figure-level function with similar flexibility) or `histplot` (an axes-level function for histograms).\n",
      "  warnings.warn(msg, FutureWarning)\n"
     ]
    },
    {
     "data": {
      "text/plain": [
       "<AxesSubplot:ylabel='Density'>"
      ]
     },
     "execution_count": 25,
     "metadata": {},
     "output_type": "execute_result"
    },
    {
     "data": {
      "image/png": "[encoded data removed]",
      "text/plain": [
       "<Figure size 1560x650 with 1 Axes>"
      ]
     },
     "metadata": {
      "needs_background": "light"
     },
     "output_type": "display_data"
    }
   ],
   "source": [
    "a = data[data[\"Title\"] == 'management accountant']\n",
    "plt.figure(figsize=(12,5), dpi=130)\n",
    "sns.distplot(x=a['SalaryNormalized'], bins=100)"
   ]
  },
  {
   "cell_type": "code",
   "execution_count": 26,
   "id": "053db92b",
   "metadata": {},
   "outputs": [
    {
     "name": "stderr",
     "output_type": "stream",
     "text": [
      "/Users/hrishitelang/opt/anaconda3/lib/python3.9/site-packages/seaborn/distributions.py:2619: FutureWarning: `distplot` is a deprecated function and will be removed in a future version. Please adapt your code to use either `displot` (a figure-level function with similar flexibility) or `histplot` (an axes-level function for histograms).\n",
      "  warnings.warn(msg, FutureWarning)\n"
     ]
    },
    {
     "data": {
      "text/plain": [
       "<AxesSubplot:ylabel='Density'>"
      ]
     },
     "execution_count": 26,
     "metadata": {},
     "output_type": "execute_result"
    },
    {
     "data": {
      "image/png": "[encoded data removed]",
      "text/plain": [
       "<Figure size 1560x650 with 1 Axes>"
      ]
     },
     "metadata": {
      "needs_background": "light"
     },
     "output_type": "display_data"
    }
   ],
   "source": [
    "a = data[data[\"Title\"] == 'sales executive']\n",
    "plt.figure(figsize=(12,5), dpi=130)\n",
    "sns.distplot(x=a['SalaryNormalized'], bins=100)"
   ]
  },
  {
   "cell_type": "code",
   "execution_count": 27,
   "id": "cb52bb4e",
   "metadata": {},
   "outputs": [
    {
     "name": "stderr",
     "output_type": "stream",
     "text": [
      "/Users/hrishitelang/opt/anaconda3/lib/python3.9/site-packages/seaborn/distributions.py:2619: FutureWarning: `distplot` is a deprecated function and will be removed in a future version. Please adapt your code to use either `displot` (a figure-level function with similar flexibility) or `histplot` (an axes-level function for histograms).\n",
      "  warnings.warn(msg, FutureWarning)\n"
     ]
    },
    {
     "data": {
      "text/plain": [
       "<AxesSubplot:ylabel='Density'>"
      ]
     },
     "execution_count": 27,
     "metadata": {},
     "output_type": "execute_result"
    },
    {
     "data": {
      "image/png": "[encoded data removed]",
      "text/plain": [
       "<Figure size 1560x650 with 1 Axes>"
      ]
     },
     "metadata": {
      "needs_background": "light"
     },
     "output_type": "display_data"
    }
   ],
   "source": [
    "a = data[data[\"Title\"] == 'cleaner']\n",
    "plt.figure(figsize=(12,5), dpi=130)\n",
    "sns.distplot(x=a['SalaryNormalized'], bins=100)"
   ]
  },
  {
   "cell_type": "code",
   "execution_count": 28,
   "id": "41c12478",
   "metadata": {},
   "outputs": [],
   "source": [
    "data[\"LocationNormalized\"] = data[\"LocationNormalized\"].apply(lambda item: item.lower())"
   ]
  },
  {
   "cell_type": "code",
   "execution_count": 29,
   "id": "e4bd1643",
   "metadata": {},
   "outputs": [
    {
     "data": {
      "text/plain": [
       "1761"
      ]
     },
     "execution_count": 29,
     "metadata": {},
     "output_type": "execute_result"
    }
   ],
   "source": [
    "len(data[\"LocationNormalized\"].unique())"
   ]
  },
  {
   "cell_type": "code",
   "execution_count": 30,
   "id": "18aab159",
   "metadata": {},
   "outputs": [
    {
     "data": {
      "text/plain": [
       "uk                     10025\n",
       "london                  7557\n",
       "south east london       2903\n",
       "the city                1670\n",
       "manchester               859\n",
       "leeds                    818\n",
       "birmingham               751\n",
       "central london           630\n",
       "west midlands            603\n",
       "surrey                   566\n",
       "reading                  527\n",
       "bristol                  509\n",
       "nottingham               449\n",
       "sheffield                449\n",
       "aberdeen                 400\n",
       "east sheen               383\n",
       "milton keynes            378\n",
       "berkshire                364\n",
       "oxford                   362\n",
       "belfast                  351\n",
       "hampshire                346\n",
       "newcastle upon tyne      344\n",
       "liverpool                327\n",
       "kent                     326\n",
       "cambridge                325\n",
       "leicester                316\n",
       "guildford                282\n",
       "oxfordshire              265\n",
       "west yorkshire           261\n",
       "hertfordshire            254\n",
       "north west london        246\n",
       "northampton              245\n",
       "glasgow                  243\n",
       "scotland                 236\n",
       "lancashire               219\n",
       "essex                    219\n",
       "east midlands            219\n",
       "warwickshire             217\n",
       "cheshire                 217\n",
       "south east england       214\n",
       "south west london        213\n",
       "coventry                 205\n",
       "buckinghamshire          201\n",
       "brighton                 200\n",
       "leicestershire           200\n",
       "gloucestershire          199\n",
       "york                     195\n",
       "basingstoke              195\n",
       "bradford                 194\n",
       "slough                   194\n",
       "Name: LocationNormalized, dtype: int64"
      ]
     },
     "execution_count": 30,
     "metadata": {},
     "output_type": "execute_result"
    }
   ],
   "source": [
    "data[\"LocationNormalized\"].value_counts()[:50]"
   ]
  },
  {
   "cell_type": "code",
   "execution_count": 31,
   "id": "dd0e5c71",
   "metadata": {},
   "outputs": [
    {
     "data": {
      "text/plain": [
       "permanent    37007\n",
       "contract      7184\n",
       "Name: ContractTime, dtype: int64"
      ]
     },
     "execution_count": 31,
     "metadata": {},
     "output_type": "execute_result"
    }
   ],
   "source": [
    "data[\"ContractTime\"].value_counts()"
   ]
  },
  {
   "cell_type": "code",
   "execution_count": 32,
   "id": "c1dc11ad",
   "metadata": {},
   "outputs": [
    {
     "data": {
      "text/plain": [
       "<AxesSubplot:>"
      ]
     },
     "execution_count": 32,
     "metadata": {},
     "output_type": "execute_result"
    },
    {
     "data": {
      "image/png": "[encoded data removed]",
      "text/plain": [
       "<Figure size 432x288 with 1 Axes>"
      ]
     },
     "metadata": {
      "needs_background": "light"
     },
     "output_type": "display_data"
    }
   ],
   "source": [
    "data[\"ContractType\"].value_counts().plot(kind=\"bar\")"
   ]
  },
  {
   "cell_type": "code",
   "execution_count": 33,
   "id": "18087e00",
   "metadata": {},
   "outputs": [],
   "source": [
    "data[\"Company\"] = data[\"Company\"].apply(lambda item: str(item).lower())"
   ]
  },
  {
   "cell_type": "code",
   "execution_count": 34,
   "id": "78164dfb",
   "metadata": {},
   "outputs": [
    {
     "data": {
      "text/plain": [
       "10671"
      ]
     },
     "execution_count": 34,
     "metadata": {},
     "output_type": "execute_result"
    }
   ],
   "source": [
    "len(data[\"Company\"].unique())"
   ]
  },
  {
   "cell_type": "code",
   "execution_count": 35,
   "id": "64ecbad3",
   "metadata": {},
   "outputs": [
    {
     "data": {
      "text/plain": [
       "nan                               7890\n",
       "ukstaffsearch                     1226\n",
       "cvbrowser                          747\n",
       "london4jobs                        578\n",
       "hays                               462\n",
       "jam recruitment ltd                321\n",
       "office angels                      241\n",
       "jobsite jobs                       211\n",
       "perfect placement                  209\n",
       "matchtech group plc.               206\n",
       "jobg8                              197\n",
       "array                              194\n",
       "penguin recruitment                192\n",
       "randstad                           184\n",
       "adecco                             170\n",
       "interaction recruitment            170\n",
       "michael page finance               151\n",
       "adecco group                       148\n",
       "corecruitment international        145\n",
       "page personnel finance             140\n",
       "capita resourcing                  132\n",
       "bms sales specialists llp          132\n",
       "michael page sales                 124\n",
       "support services group             122\n",
       "huxley associates                  112\n",
       "sf group                           110\n",
       "rise technical recruitment ltd     110\n",
       "matchtech                          108\n",
       "edustaff                           108\n",
       "experis it                         106\n",
       "spring personnel                   105\n",
       "tradewind recruitment              102\n",
       "ata recruitment                     96\n",
       "brookstreet uk                      96\n",
       "computer people                     94\n",
       "rise technical recruitment          93\n",
       "michael page marketing              91\n",
       "jam recruitment                     90\n",
       "prime time recruitment              87\n",
       "randstad care                       85\n",
       "computer futures                    83\n",
       "jam recruitment ltd.                82\n",
       "real staffing                       81\n",
       "search consultancy                  80\n",
       "chef results                        80\n",
       "4social work                        80\n",
       "teacheractive                       80\n",
       "huntress group                      79\n",
       "fusion people                       79\n",
       "senitor associates                  79\n",
       "Name: Company, dtype: int64"
      ]
     },
     "execution_count": 35,
     "metadata": {},
     "output_type": "execute_result"
    }
   ],
   "source": [
    "data[\"Company\"].value_counts()[:50]"
   ]
  },
  {
   "cell_type": "code",
   "execution_count": 36,
   "id": "743a7d38",
   "metadata": {},
   "outputs": [
    {
     "data": {
      "text/plain": [
       "<AxesSubplot:>"
      ]
     },
     "execution_count": 36,
     "metadata": {},
     "output_type": "execute_result"
    },
    {
     "data": {
      "image/png": "[encoded data removed]",
      "text/plain": [
       "<Figure size 432x288 with 1 Axes>"
      ]
     },
     "metadata": {
      "needs_background": "light"
     },
     "output_type": "display_data"
    }
   ],
   "source": [
    "data[\"Category\"].value_counts().plot(kind='bar', color=\"green\")"
   ]
  },
  {
   "cell_type": "markdown",
   "id": "b1595cc1",
   "metadata": {},
   "source": [
    "# Data Manipulation:"
   ]
  },
  {
   "cell_type": "code",
   "execution_count": 37,
   "id": "93cf678b",
   "metadata": {},
   "outputs": [
    {
     "name": "stdout",
     "output_type": "stream",
     "text": [
      "Title\n",
      "FullDescription\n",
      "LocationRaw\n",
      "LocationNormalized\n",
      "ContractType\n",
      "ContractTime\n",
      "Company\n",
      "Category\n",
      "SalaryRaw\n",
      "SourceName\n"
     ]
    }
   ],
   "source": [
    "# Check for string label \n",
    "for label,content in data.items():\n",
    "    if pd.api.types.is_string_dtype(content):\n",
    "        print(label)"
   ]
  },
  {
   "cell_type": "code",
   "execution_count": 38,
   "id": "46136349",
   "metadata": {},
   "outputs": [
    {
     "name": "stdout",
     "output_type": "stream",
     "text": [
      "SalaryNormalized\n"
     ]
    }
   ],
   "source": [
    "# Check for numerical label\n",
    "for label,content in data.items():\n",
    "    if pd.api.types.is_numeric_dtype(content):\n",
    "        print(label)"
   ]
  },
  {
   "cell_type": "code",
   "execution_count": 39,
   "id": "89d96a38",
   "metadata": {},
   "outputs": [],
   "source": [
    "# This will turn all of the string value into category values\n",
    "for label, content in data.items():\n",
    "    if pd.api.types.is_string_dtype(content):\n",
    "        data[label] = content.astype(\"category\").cat.as_ordered()"
   ]
  },
  {
   "cell_type": "code",
   "execution_count": 40,
   "id": "eaa84dc5",
   "metadata": {},
   "outputs": [],
   "source": [
    "# Filling missing values\n",
    "for label,content in data.items():\n",
    "    if not pd.api.types.is_numeric_dtype(content):\n",
    "        # Add binary column to indicate whether sample had missing value\n",
    "        data[label+\"_is_missing\"]=pd.isnull(content)\n",
    "        # Turn categories into numbers and add+1\n",
    "        data[label] = pd.Categorical(content).codes+1"
   ]
  },
  {
   "cell_type": "code",
   "execution_count": 41,
   "id": "8b34809d",
   "metadata": {},
   "outputs": [
    {
     "data": {
      "text/plain": [
       "Title                            0\n",
       "FullDescription                  0\n",
       "LocationRaw                      0\n",
       "LocationNormalized               0\n",
       "ContractType                     0\n",
       "ContractTime                     0\n",
       "Company                          0\n",
       "Category                         0\n",
       "SalaryRaw                        0\n",
       "SalaryNormalized                 0\n",
       "SourceName                       0\n",
       "Title_is_missing                 0\n",
       "FullDescription_is_missing       0\n",
       "LocationRaw_is_missing           0\n",
       "LocationNormalized_is_missing    0\n",
       "ContractType_is_missing          0\n",
       "ContractTime_is_missing          0\n",
       "Company_is_missing               0\n",
       "Category_is_missing              0\n",
       "SalaryRaw_is_missing             0\n",
       "SourceName_is_missing            0\n",
       "dtype: int64"
      ]
     },
     "execution_count": 41,
     "metadata": {},
     "output_type": "execute_result"
    }
   ],
   "source": [
    "data.isna().sum()"
   ]
  },
  {
   "cell_type": "code",
   "execution_count": 42,
   "id": "982672d4",
   "metadata": {},
   "outputs": [
    {
     "name": "stdout",
     "output_type": "stream",
     "text": [
      "<class 'pandas.core.frame.DataFrame'>\n",
      "RangeIndex: 59998 entries, 0 to 59997\n",
      "Data columns (total 21 columns):\n",
      " #   Column                         Non-Null Count  Dtype\n",
      "---  ------                         --------------  -----\n",
      " 0   Title                          59998 non-null  int32\n",
      " 1   FullDescription                59998 non-null  int32\n",
      " 2   LocationRaw                    59998 non-null  int16\n",
      " 3   LocationNormalized             59998 non-null  int16\n",
      " 4   ContractType                   59998 non-null  int8 \n",
      " 5   ContractTime                   59998 non-null  int8 \n",
      " 6   Company                        59998 non-null  int16\n",
      " 7   Category                       59998 non-null  int8 \n",
      " 8   SalaryRaw                      59998 non-null  int16\n",
      " 9   SalaryNormalized               59998 non-null  int64\n",
      " 10  SourceName                     59998 non-null  int16\n",
      " 11  Title_is_missing               59998 non-null  bool \n",
      " 12  FullDescription_is_missing     59998 non-null  bool \n",
      " 13  LocationRaw_is_missing         59998 non-null  bool \n",
      " 14  LocationNormalized_is_missing  59998 non-null  bool \n",
      " 15  ContractType_is_missing        59998 non-null  bool \n",
      " 16  ContractTime_is_missing        59998 non-null  bool \n",
      " 17  Company_is_missing             59998 non-null  bool \n",
      " 18  Category_is_missing            59998 non-null  bool \n",
      " 19  SalaryRaw_is_missing           59998 non-null  bool \n",
      " 20  SourceName_is_missing          59998 non-null  bool \n",
      "dtypes: bool(10), int16(5), int32(2), int64(1), int8(3)\n",
      "memory usage: 2.2 MB\n"
     ]
    }
   ],
   "source": [
    "data.info()"
   ]
  },
  {
   "cell_type": "code",
   "execution_count": 43,
   "id": "e9f73b38",
   "metadata": {},
   "outputs": [],
   "source": [
    "data_train = data.copy()"
   ]
  },
  {
   "cell_type": "code",
   "execution_count": 44,
   "id": "72971998",
   "metadata": {},
   "outputs": [
    {
     "data": {
      "text/html": [
       "<div>\n",
       "<style scoped>\n",
       "    .dataframe tbody tr th:only-of-type {\n",
       "        vertical-align: middle;\n",
       "    }\n",
       "\n",
       "    .dataframe tbody tr th {\n",
       "        vertical-align: top;\n",
       "    }\n",
       "\n",
       "    .dataframe thead th {\n",
       "        text-align: right;\n",
       "    }\n",
       "</style>\n",
       "<table border=\"1\" class=\"dataframe\">\n",
       "  <thead>\n",
       "    <tr style=\"text-align: right;\">\n",
       "      <th></th>\n",
       "      <th>Title</th>\n",
       "      <th>FullDescription</th>\n",
       "      <th>LocationRaw</th>\n",
       "      <th>LocationNormalized</th>\n",
       "      <th>ContractType</th>\n",
       "      <th>ContractTime</th>\n",
       "      <th>Company</th>\n",
       "      <th>Category</th>\n",
       "      <th>SalaryRaw</th>\n",
       "      <th>SalaryNormalized</th>\n",
       "      <th>...</th>\n",
       "      <th>Title_is_missing</th>\n",
       "      <th>FullDescription_is_missing</th>\n",
       "      <th>LocationRaw_is_missing</th>\n",
       "      <th>LocationNormalized_is_missing</th>\n",
       "      <th>ContractType_is_missing</th>\n",
       "      <th>ContractTime_is_missing</th>\n",
       "      <th>Company_is_missing</th>\n",
       "      <th>Category_is_missing</th>\n",
       "      <th>SalaryRaw_is_missing</th>\n",
       "      <th>SourceName_is_missing</th>\n",
       "    </tr>\n",
       "  </thead>\n",
       "  <tbody>\n",
       "    <tr>\n",
       "      <th>0</th>\n",
       "      <td>34931</td>\n",
       "      <td>181</td>\n",
       "      <td>7614</td>\n",
       "      <td>1514</td>\n",
       "      <td>0</td>\n",
       "      <td>2</td>\n",
       "      <td>1491</td>\n",
       "      <td>12</td>\n",
       "      <td>3395</td>\n",
       "      <td>16506</td>\n",
       "      <td>...</td>\n",
       "      <td>False</td>\n",
       "      <td>False</td>\n",
       "      <td>False</td>\n",
       "      <td>False</td>\n",
       "      <td>True</td>\n",
       "      <td>False</td>\n",
       "      <td>False</td>\n",
       "      <td>False</td>\n",
       "      <td>False</td>\n",
       "      <td>False</td>\n",
       "    </tr>\n",
       "    <tr>\n",
       "      <th>1</th>\n",
       "      <td>37285</td>\n",
       "      <td>48401</td>\n",
       "      <td>5599</td>\n",
       "      <td>1137</td>\n",
       "      <td>0</td>\n",
       "      <td>2</td>\n",
       "      <td>8455</td>\n",
       "      <td>25</td>\n",
       "      <td>27770</td>\n",
       "      <td>35000</td>\n",
       "      <td>...</td>\n",
       "      <td>False</td>\n",
       "      <td>False</td>\n",
       "      <td>False</td>\n",
       "      <td>False</td>\n",
       "      <td>True</td>\n",
       "      <td>False</td>\n",
       "      <td>False</td>\n",
       "      <td>False</td>\n",
       "      <td>False</td>\n",
       "      <td>False</td>\n",
       "    </tr>\n",
       "    <tr>\n",
       "      <th>2</th>\n",
       "      <td>11630</td>\n",
       "      <td>50955</td>\n",
       "      <td>7404</td>\n",
       "      <td>1488</td>\n",
       "      <td>0</td>\n",
       "      <td>2</td>\n",
       "      <td>318</td>\n",
       "      <td>9</td>\n",
       "      <td>20260</td>\n",
       "      <td>45000</td>\n",
       "      <td>...</td>\n",
       "      <td>False</td>\n",
       "      <td>False</td>\n",
       "      <td>False</td>\n",
       "      <td>False</td>\n",
       "      <td>True</td>\n",
       "      <td>False</td>\n",
       "      <td>False</td>\n",
       "      <td>False</td>\n",
       "      <td>False</td>\n",
       "      <td>False</td>\n",
       "    </tr>\n",
       "    <tr>\n",
       "      <th>3</th>\n",
       "      <td>8298</td>\n",
       "      <td>13540</td>\n",
       "      <td>7962</td>\n",
       "      <td>959</td>\n",
       "      <td>0</td>\n",
       "      <td>2</td>\n",
       "      <td>3144</td>\n",
       "      <td>14</td>\n",
       "      <td>21568</td>\n",
       "      <td>62500</td>\n",
       "      <td>...</td>\n",
       "      <td>False</td>\n",
       "      <td>False</td>\n",
       "      <td>False</td>\n",
       "      <td>False</td>\n",
       "      <td>True</td>\n",
       "      <td>False</td>\n",
       "      <td>False</td>\n",
       "      <td>False</td>\n",
       "      <td>False</td>\n",
       "      <td>False</td>\n",
       "    </tr>\n",
       "    <tr>\n",
       "      <th>4</th>\n",
       "      <td>10820</td>\n",
       "      <td>381</td>\n",
       "      <td>925</td>\n",
       "      <td>226</td>\n",
       "      <td>1</td>\n",
       "      <td>0</td>\n",
       "      <td>5188</td>\n",
       "      <td>16</td>\n",
       "      <td>16401</td>\n",
       "      <td>18000</td>\n",
       "      <td>...</td>\n",
       "      <td>False</td>\n",
       "      <td>False</td>\n",
       "      <td>False</td>\n",
       "      <td>False</td>\n",
       "      <td>False</td>\n",
       "      <td>True</td>\n",
       "      <td>False</td>\n",
       "      <td>False</td>\n",
       "      <td>False</td>\n",
       "      <td>False</td>\n",
       "    </tr>\n",
       "  </tbody>\n",
       "</table>\n",
       "<p>5 rows × 21 columns</p>\n",
       "</div>"
      ],
      "text/plain": [
       "   Title  FullDescription  LocationRaw  LocationNormalized  ContractType  \\\n",
       "0  34931              181         7614                1514             0   \n",
       "1  37285            48401         5599                1137             0   \n",
       "2  11630            50955         7404                1488             0   \n",
       "3   8298            13540         7962                 959             0   \n",
       "4  10820              381          925                 226             1   \n",
       "\n",
       "   ContractTime  Company  Category  SalaryRaw  SalaryNormalized  ...  \\\n",
       "0             2     1491        12       3395             16506  ...   \n",
       "1             2     8455        25      27770             35000  ...   \n",
       "2             2      318         9      20260             45000  ...   \n",
       "3             2     3144        14      21568             62500  ...   \n",
       "4             0     5188        16      16401             18000  ...   \n",
       "\n",
       "   Title_is_missing  FullDescription_is_missing  LocationRaw_is_missing  \\\n",
       "0             False                       False                   False   \n",
       "1             False                       False                   False   \n",
       "2             False                       False                   False   \n",
       "3             False                       False                   False   \n",
       "4             False                       False                   False   \n",
       "\n",
       "   LocationNormalized_is_missing  ContractType_is_missing  \\\n",
       "0                          False                     True   \n",
       "1                          False                     True   \n",
       "2                          False                     True   \n",
       "3                          False                     True   \n",
       "4                          False                    False   \n",
       "\n",
       "   ContractTime_is_missing  Company_is_missing  Category_is_missing  \\\n",
       "0                    False               False                False   \n",
       "1                    False               False                False   \n",
       "2                    False               False                False   \n",
       "3                    False               False                False   \n",
       "4                     True               False                False   \n",
       "\n",
       "   SalaryRaw_is_missing  SourceName_is_missing  \n",
       "0                 False                  False  \n",
       "1                 False                  False  \n",
       "2                 False                  False  \n",
       "3                 False                  False  \n",
       "4                 False                  False  \n",
       "\n",
       "[5 rows x 21 columns]"
      ]
     },
     "execution_count": 44,
     "metadata": {},
     "output_type": "execute_result"
    }
   ],
   "source": [
    "data_train.head()"
   ]
  },
  {
   "cell_type": "code",
   "execution_count": 45,
   "id": "418f2eea",
   "metadata": {},
   "outputs": [],
   "source": [
    "# Split the data into X & y\n",
    "X = data_train.drop(\"SalaryNormalized\",axis=1)\n",
    "y = data_train[\"SalaryNormalized\"]"
   ]
  },
  {
   "cell_type": "markdown",
   "id": "45e6bf10",
   "metadata": {},
   "source": [
    "# Modeling"
   ]
  },
  {
   "cell_type": "markdown",
   "id": "48538a6f",
   "metadata": {},
   "source": [
    "# Random Forest Regressor"
   ]
  },
  {
   "cell_type": "code",
   "execution_count": 46,
   "id": "d71bb354",
   "metadata": {},
   "outputs": [
    {
     "data": {
      "text/plain": [
       "RandomForestRegressor(n_jobs=-1)"
      ]
     },
     "execution_count": 46,
     "metadata": {},
     "output_type": "execute_result"
    }
   ],
   "source": [
    "# Let's build a machine learning model \n",
    "from sklearn.ensemble import RandomForestRegressor\n",
    "from sklearn.model_selection import train_test_split\n",
    "X_train, X_test, y_train, y_test = train_test_split(X, y, test_size=0.2, random_state=42)\n",
    "regressor_rf = RandomForestRegressor(n_jobs=-1)\n",
    "regressor_rf.fit(X_train,y_train)"
   ]
  },
  {
   "cell_type": "code",
   "execution_count": 47,
   "id": "1fe96989",
   "metadata": {},
   "outputs": [
    {
     "data": {
      "text/plain": [
       "7048.9132022884105"
      ]
     },
     "execution_count": 47,
     "metadata": {},
     "output_type": "execute_result"
    }
   ],
   "source": [
    "# Evaluate model using mean absolute error\n",
    "from sklearn.metrics import mean_absolute_error\n",
    "from sklearn.metrics import mean_squared_error, r2_score\n",
    "y_pred = regressor_rf.predict(X_test)\n",
    "mse_rf = mean_squared_error(y_test, y_pred, squared=False)\n",
    "mse_rf"
   ]
  },
  {
   "cell_type": "code",
   "execution_count": 48,
   "id": "6154d0b5",
   "metadata": {},
   "outputs": [
    {
     "data": {
      "text/plain": [
       "0.8373835852410111"
      ]
     },
     "execution_count": 48,
     "metadata": {},
     "output_type": "execute_result"
    }
   ],
   "source": [
    "r2_score(y_test,y_pred)"
   ]
  },
  {
   "cell_type": "code",
   "execution_count": 49,
   "id": "041551d9",
   "metadata": {},
   "outputs": [
    {
     "data": {
      "text/plain": [
       "0.8371120827537267"
      ]
     },
     "execution_count": 49,
     "metadata": {},
     "output_type": "execute_result"
    }
   ],
   "source": [
    "r2 = r2_score(y_test, y_pred)\n",
    "n = len(y_test)\n",
    "X_test = pd.DataFrame(X_test)\n",
    "k = len(X_test.columns)\n",
    "\n",
    "adj_r2_score = 1 - (((1-r2)*(n-1))/(n-k-1))\n",
    "adj_r2_score"
   ]
  },
  {
   "cell_type": "markdown",
   "id": "91939b55",
   "metadata": {},
   "source": [
    "# SVM Regressor"
   ]
  },
  {
   "cell_type": "code",
   "execution_count": 50,
   "id": "fb80e8cc",
   "metadata": {},
   "outputs": [
    {
     "data": {
      "text/plain": [
       "SVR()"
      ]
     },
     "execution_count": 50,
     "metadata": {},
     "output_type": "execute_result"
    }
   ],
   "source": [
    "from sklearn.svm import SVR\n",
    "regressor_sv = SVR(kernel = 'rbf')\n",
    "regressor_sv.fit(X_train, y_train)"
   ]
  },
  {
   "cell_type": "code",
   "execution_count": 51,
   "id": "d2d2907e",
   "metadata": {},
   "outputs": [],
   "source": [
    "pred = regressor_sv.predict(X_test)"
   ]
  },
  {
   "cell_type": "code",
   "execution_count": 52,
   "id": "e41c34e5",
   "metadata": {},
   "outputs": [
    {
     "data": {
      "text/plain": [
       "17608.69655339655"
      ]
     },
     "execution_count": 52,
     "metadata": {},
     "output_type": "execute_result"
    }
   ],
   "source": [
    "from sklearn.metrics import mean_squared_error, r2_score\n",
    "\n",
    "mean_squared_error(y_test, pred, squared=False)"
   ]
  },
  {
   "cell_type": "code",
   "execution_count": 53,
   "id": "b4fe271c",
   "metadata": {},
   "outputs": [
    {
     "data": {
      "text/plain": [
       "-0.014786018498608167"
      ]
     },
     "execution_count": 53,
     "metadata": {},
     "output_type": "execute_result"
    }
   ],
   "source": [
    "r2_score(y_test,pred)"
   ]
  },
  {
   "cell_type": "code",
   "execution_count": 54,
   "id": "50581653",
   "metadata": {},
   "outputs": [
    {
     "data": {
      "text/plain": [
       "-0.01648029351071023"
      ]
     },
     "execution_count": 54,
     "metadata": {},
     "output_type": "execute_result"
    }
   ],
   "source": [
    "r2 = r2_score(y_test, pred)\n",
    "n = len(y_test)\n",
    "X_test = pd.DataFrame(X_test)\n",
    "k = len(X_test.columns)\n",
    "\n",
    "adj_r2_score = 1 - (((1-r2)*(n-1))/(n-k-1))\n",
    "adj_r2_score"
   ]
  },
  {
   "cell_type": "markdown",
   "id": "f99c5246",
   "metadata": {},
   "source": [
    "# Lasso Regularization"
   ]
  },
  {
   "cell_type": "code",
   "execution_count": 55,
   "id": "e496088f",
   "metadata": {},
   "outputs": [
    {
     "data": {
      "text/plain": [
       "Lasso(alpha=1)"
      ]
     },
     "execution_count": 55,
     "metadata": {},
     "output_type": "execute_result"
    }
   ],
   "source": [
    "from sklearn.linear_model import Lasso\n",
    "\n",
    "regressor_lasso = Lasso(alpha=1)\n",
    "regressor_lasso.fit(X_train, y_train)"
   ]
  },
  {
   "cell_type": "code",
   "execution_count": 56,
   "id": "4c08ab21",
   "metadata": {},
   "outputs": [],
   "source": [
    "pred = regressor_lasso.predict(X_test)"
   ]
  },
  {
   "cell_type": "code",
   "execution_count": 57,
   "id": "ad142165",
   "metadata": {},
   "outputs": [
    {
     "data": {
      "text/plain": [
       "16078.421727206267"
      ]
     },
     "execution_count": 57,
     "metadata": {},
     "output_type": "execute_result"
    }
   ],
   "source": [
    "mean_squared_error(y_test, pred, squared=False)"
   ]
  },
  {
   "cell_type": "code",
   "execution_count": 58,
   "id": "087a300d",
   "metadata": {},
   "outputs": [
    {
     "data": {
      "text/plain": [
       "0.1539288475652959"
      ]
     },
     "execution_count": 58,
     "metadata": {},
     "output_type": "execute_result"
    }
   ],
   "source": [
    "r2_score(y_test,pred)"
   ]
  },
  {
   "cell_type": "code",
   "execution_count": 59,
   "id": "3261a849",
   "metadata": {},
   "outputs": [
    {
     "data": {
      "text/plain": [
       "0.15251625694431814"
      ]
     },
     "execution_count": 59,
     "metadata": {},
     "output_type": "execute_result"
    }
   ],
   "source": [
    "r2 = r2_score(y_test, pred)\n",
    "n = len(y_test)\n",
    "X_test = pd.DataFrame(X_test)\n",
    "k = len(X_test.columns)\n",
    "\n",
    "adj_r2_score = 1 - (((1-r2)*(n-1))/(n-k-1))\n",
    "adj_r2_score"
   ]
  },
  {
   "cell_type": "markdown",
   "id": "b2f00c81",
   "metadata": {},
   "source": [
    "# Decision Tree Regressor"
   ]
  },
  {
   "cell_type": "code",
   "execution_count": 60,
   "id": "9e41320a",
   "metadata": {},
   "outputs": [
    {
     "data": {
      "text/plain": [
       "DecisionTreeRegressor(random_state=0)"
      ]
     },
     "execution_count": 60,
     "metadata": {},
     "output_type": "execute_result"
    }
   ],
   "source": [
    "from sklearn.tree import DecisionTreeRegressor\n",
    "regressor_dt = DecisionTreeRegressor(random_state = 0)\n",
    "regressor_dt.fit(X_train, y_train)"
   ]
  },
  {
   "cell_type": "code",
   "execution_count": 61,
   "id": "6abcf67e",
   "metadata": {},
   "outputs": [],
   "source": [
    "pred = regressor_dt.predict(X_test)"
   ]
  },
  {
   "cell_type": "code",
   "execution_count": 62,
   "id": "19a9ae83",
   "metadata": {},
   "outputs": [
    {
     "data": {
      "text/plain": [
       "9707.56463801126"
      ]
     },
     "execution_count": 62,
     "metadata": {},
     "output_type": "execute_result"
    }
   ],
   "source": [
    "mean_squared_error(y_test, pred, squared=False)"
   ]
  },
  {
   "cell_type": "code",
   "execution_count": 63,
   "id": "93108150",
   "metadata": {},
   "outputs": [
    {
     "data": {
      "text/plain": [
       "0.6915813455647128"
      ]
     },
     "execution_count": 63,
     "metadata": {},
     "output_type": "execute_result"
    }
   ],
   "source": [
    "r2_score(y_test,pred)"
   ]
  },
  {
   "cell_type": "code",
   "execution_count": 64,
   "id": "d723af65",
   "metadata": {},
   "outputs": [
    {
     "data": {
      "text/plain": [
       "0.6910664133425987"
      ]
     },
     "execution_count": 64,
     "metadata": {},
     "output_type": "execute_result"
    }
   ],
   "source": [
    "r2 = r2_score(y_test, pred)\n",
    "n = len(y_test)\n",
    "X_test = pd.DataFrame(X_test)\n",
    "k = len(X_test.columns)\n",
    "\n",
    "adj_r2_score = 1 - (((1-r2)*(n-1))/(n-k-1))\n",
    "adj_r2_score"
   ]
  },
  {
   "cell_type": "markdown",
   "id": "30feabe9",
   "metadata": {},
   "source": [
    "# Ridge Regularization"
   ]
  },
  {
   "cell_type": "code",
   "execution_count": 65,
   "id": "2b4e6e25",
   "metadata": {},
   "outputs": [
    {
     "data": {
      "text/plain": [
       "Ridge()"
      ]
     },
     "execution_count": 65,
     "metadata": {},
     "output_type": "execute_result"
    }
   ],
   "source": [
    "from sklearn.linear_model import Ridge\n",
    "regressor_ridge = Ridge(alpha=1.0)\n",
    "regressor_ridge.fit(X_train, y_train)"
   ]
  },
  {
   "cell_type": "code",
   "execution_count": 66,
   "id": "140fd974",
   "metadata": {},
   "outputs": [],
   "source": [
    "pred = regressor_ridge.predict(X_test)"
   ]
  },
  {
   "cell_type": "code",
   "execution_count": 67,
   "id": "9cd6ca9f",
   "metadata": {},
   "outputs": [
    {
     "data": {
      "text/plain": [
       "16078.420215559163"
      ]
     },
     "execution_count": 67,
     "metadata": {},
     "output_type": "execute_result"
    }
   ],
   "source": [
    "mean_squared_error(y_test, pred, squared=False)"
   ]
  },
  {
   "cell_type": "code",
   "execution_count": 68,
   "id": "ff5bd3b2",
   "metadata": {},
   "outputs": [
    {
     "data": {
      "text/plain": [
       "0.15392900665565534"
      ]
     },
     "execution_count": 68,
     "metadata": {},
     "output_type": "execute_result"
    }
   ],
   "source": [
    "r2_score(y_test,pred)"
   ]
  },
  {
   "cell_type": "code",
   "execution_count": 69,
   "id": "e34e372d",
   "metadata": {},
   "outputs": [
    {
     "data": {
      "text/plain": [
       "0.1525164163002929"
      ]
     },
     "execution_count": 69,
     "metadata": {},
     "output_type": "execute_result"
    }
   ],
   "source": [
    "r2 = r2_score(y_test, pred)\n",
    "n = len(y_test)\n",
    "X_test = pd.DataFrame(X_test)\n",
    "k = len(X_test.columns)\n",
    "\n",
    "adj_r2_score = 1 - (((1-r2)*(n-1))/(n-k-1))\n",
    "adj_r2_score"
   ]
  },
  {
   "cell_type": "markdown",
   "id": "33354916",
   "metadata": {},
   "source": [
    "# Hyperparameter Tuning (Only for RF Regression):"
   ]
  },
  {
   "cell_type": "code",
   "execution_count": 70,
   "id": "a251dd81",
   "metadata": {},
   "outputs": [
    {
     "name": "stdout",
     "output_type": "stream",
     "text": [
      "Fitting 10 folds for each of 5 candidates, totalling 50 fits\n"
     ]
    },
    {
     "data": {
      "text/plain": [
       "RandomizedSearchCV(cv=10, estimator=DecisionTreeRegressor(), n_iter=5,\n",
       "                   param_distributions={'max_depth': [None, 3, 5, 10],\n",
       "                                        'max_features': [0.5, 1, 'sqrt',\n",
       "                                                         'auto'],\n",
       "                                        'min_samples_leaf': array([ 1,  3,  5,  7,  9, 11, 13, 15, 17, 19]),\n",
       "                                        'min_samples_split': array([ 2,  4,  6,  8, 10, 12, 14, 16, 18])},\n",
       "                   verbose=True)"
      ]
     },
     "execution_count": 70,
     "metadata": {},
     "output_type": "execute_result"
    }
   ],
   "source": [
    "from sklearn.model_selection import RandomizedSearchCV\n",
    "np.random.seed(42)\n",
    "grid = {\n",
    "    \"max_depth\":[None,3,5,10],\n",
    "    \"min_samples_split\":np.arange(2,20,2),\n",
    "    \"min_samples_leaf\":np.arange(1,20,2),\n",
    "    \"max_features\": [0.5,1,\"sqrt\",\"auto\"]\n",
    "}\n",
    "rs_model = RandomizedSearchCV(\n",
    "DecisionTreeRegressor(),\n",
    "                    param_distributions = grid,\n",
    "                     n_iter=5,\n",
    "                    cv=10,\n",
    "                    verbose=True)\n",
    "rs_model.fit(X_train,y_train)"
   ]
  },
  {
   "cell_type": "code",
   "execution_count": 71,
   "id": "75ba8081",
   "metadata": {},
   "outputs": [
    {
     "data": {
      "text/plain": [
       "{'min_samples_split': 14,\n",
       " 'min_samples_leaf': 3,\n",
       " 'max_features': 0.5,\n",
       " 'max_depth': 10}"
      ]
     },
     "execution_count": 71,
     "metadata": {},
     "output_type": "execute_result"
    }
   ],
   "source": [
    "rs_model.best_params_"
   ]
  },
  {
   "cell_type": "code",
   "execution_count": 72,
   "id": "fbf68ecc",
   "metadata": {},
   "outputs": [
    {
     "data": {
      "text/plain": [
       "(6544.299975528439, 0.5607134506056735)"
      ]
     },
     "execution_count": 72,
     "metadata": {},
     "output_type": "execute_result"
    }
   ],
   "source": [
    "# Choose the best performance\n",
    "y_preds_rs = rs_model.predict(X_test)\n",
    "mae_hyp = mean_absolute_error(y_test,y_preds_rs)\n",
    "r2_score = r2_score(y_test,y_preds_rs)\n",
    "mae_hyp, r2_score"
   ]
  },
  {
   "cell_type": "markdown",
   "id": "4b60ec5f",
   "metadata": {},
   "source": [
    "# Make predictions:"
   ]
  },
  {
   "cell_type": "code",
   "execution_count": 73,
   "id": "742d5d72",
   "metadata": {},
   "outputs": [],
   "source": [
    "data_test = pd.read_csv(\"project_test.csv\")"
   ]
  },
  {
   "cell_type": "code",
   "execution_count": 74,
   "id": "c885ff18",
   "metadata": {},
   "outputs": [
    {
     "data": {
      "text/plain": [
       "Id                        0\n",
       "Title                     0\n",
       "FullDescription           0\n",
       "LocationRaw               0\n",
       "LocationNormalized        0\n",
       "ContractType          22054\n",
       "ContractTime           7748\n",
       "Company                3992\n",
       "Category                  0\n",
       "SourceName                0\n",
       "NUM_RAND                  0\n",
       "dtype: int64"
      ]
     },
     "execution_count": 74,
     "metadata": {},
     "output_type": "execute_result"
    }
   ],
   "source": [
    "data_test.isna().sum()"
   ]
  },
  {
   "cell_type": "code",
   "execution_count": 75,
   "id": "c080242e",
   "metadata": {},
   "outputs": [
    {
     "data": {
      "text/html": [
       "<div>\n",
       "<style scoped>\n",
       "    .dataframe tbody tr th:only-of-type {\n",
       "        vertical-align: middle;\n",
       "    }\n",
       "\n",
       "    .dataframe tbody tr th {\n",
       "        vertical-align: top;\n",
       "    }\n",
       "\n",
       "    .dataframe thead th {\n",
       "        text-align: right;\n",
       "    }\n",
       "</style>\n",
       "<table border=\"1\" class=\"dataframe\">\n",
       "  <thead>\n",
       "    <tr style=\"text-align: right;\">\n",
       "      <th></th>\n",
       "      <th>Id</th>\n",
       "      <th>Title</th>\n",
       "      <th>FullDescription</th>\n",
       "      <th>LocationRaw</th>\n",
       "      <th>LocationNormalized</th>\n",
       "      <th>ContractType</th>\n",
       "      <th>ContractTime</th>\n",
       "      <th>Company</th>\n",
       "      <th>Category</th>\n",
       "      <th>SourceName</th>\n",
       "      <th>NUM_RAND</th>\n",
       "    </tr>\n",
       "  </thead>\n",
       "  <tbody>\n",
       "    <tr>\n",
       "      <th>0</th>\n",
       "      <td>68062598</td>\n",
       "      <td>Business Account Manager</td>\n",
       "      <td>Business Account Manager  Plumbing Heating Pro...</td>\n",
       "      <td>South West</td>\n",
       "      <td>South West London</td>\n",
       "      <td>NaN</td>\n",
       "      <td>permanent</td>\n",
       "      <td>BMS Sales Specialists</td>\n",
       "      <td>Sales Jobs</td>\n",
       "      <td>totaljobs.com</td>\n",
       "      <td>0.829497</td>\n",
       "    </tr>\n",
       "    <tr>\n",
       "      <th>1</th>\n",
       "      <td>69622111</td>\n",
       "      <td>Staff Nurse RGN/RMN  Newtown Abbey  Nights  Ne...</td>\n",
       "      <td>Job Title; Staff Nurse RGN/RMN – NightsLocatio...</td>\n",
       "      <td>Newtownabbey</td>\n",
       "      <td>Newtownabbey</td>\n",
       "      <td>full_time</td>\n",
       "      <td>NaN</td>\n",
       "      <td>Regional Recruitment Services</td>\n",
       "      <td>Healthcare &amp; Nursing Jobs</td>\n",
       "      <td>staffnurse.com</td>\n",
       "      <td>0.280129</td>\n",
       "    </tr>\n",
       "    <tr>\n",
       "      <th>2</th>\n",
       "      <td>66664026</td>\n",
       "      <td>Community Fundraising Manager</td>\n",
       "      <td>This dynamic international development charity...</td>\n",
       "      <td>London</td>\n",
       "      <td>London</td>\n",
       "      <td>full_time</td>\n",
       "      <td>permanent</td>\n",
       "      <td>TPP Not for Profit</td>\n",
       "      <td>Charity &amp; Voluntary Jobs</td>\n",
       "      <td>Third Sector Jobs</td>\n",
       "      <td>0.848884</td>\n",
       "    </tr>\n",
       "    <tr>\n",
       "      <th>3</th>\n",
       "      <td>71015241</td>\n",
       "      <td>Conveyancing Executive</td>\n",
       "      <td>Large regional law firm require a residential ...</td>\n",
       "      <td>Hampshire</td>\n",
       "      <td>Hampshire</td>\n",
       "      <td>full_time</td>\n",
       "      <td>permanent</td>\n",
       "      <td>PTP Consulting</td>\n",
       "      <td>Legal Jobs</td>\n",
       "      <td>TotallyLegal</td>\n",
       "      <td>0.990198</td>\n",
       "    </tr>\n",
       "    <tr>\n",
       "      <th>4</th>\n",
       "      <td>71428553</td>\n",
       "      <td>Investment Compliance Analyst</td>\n",
       "      <td>This individual will work closely with the bus...</td>\n",
       "      <td>London South East</td>\n",
       "      <td>South East London</td>\n",
       "      <td>NaN</td>\n",
       "      <td>permanent</td>\n",
       "      <td>Michael Page Financial Services</td>\n",
       "      <td>Accounting &amp; Finance Jobs</td>\n",
       "      <td>totaljobs.com</td>\n",
       "      <td>0.845982</td>\n",
       "    </tr>\n",
       "  </tbody>\n",
       "</table>\n",
       "</div>"
      ],
      "text/plain": [
       "         Id                                              Title  \\\n",
       "0  68062598                           Business Account Manager   \n",
       "1  69622111  Staff Nurse RGN/RMN  Newtown Abbey  Nights  Ne...   \n",
       "2  66664026                      Community Fundraising Manager   \n",
       "3  71015241                             Conveyancing Executive   \n",
       "4  71428553                      Investment Compliance Analyst   \n",
       "\n",
       "                                     FullDescription        LocationRaw  \\\n",
       "0  Business Account Manager  Plumbing Heating Pro...         South West   \n",
       "1  Job Title; Staff Nurse RGN/RMN – NightsLocatio...       Newtownabbey   \n",
       "2  This dynamic international development charity...             London   \n",
       "3  Large regional law firm require a residential ...          Hampshire   \n",
       "4  This individual will work closely with the bus...  London South East   \n",
       "\n",
       "  LocationNormalized ContractType ContractTime  \\\n",
       "0  South West London          NaN    permanent   \n",
       "1       Newtownabbey    full_time          NaN   \n",
       "2             London    full_time    permanent   \n",
       "3          Hampshire    full_time    permanent   \n",
       "4  South East London          NaN    permanent   \n",
       "\n",
       "                           Company                   Category  \\\n",
       "0            BMS Sales Specialists                 Sales Jobs   \n",
       "1    Regional Recruitment Services  Healthcare & Nursing Jobs   \n",
       "2               TPP Not for Profit   Charity & Voluntary Jobs   \n",
       "3                   PTP Consulting                 Legal Jobs   \n",
       "4  Michael Page Financial Services  Accounting & Finance Jobs   \n",
       "\n",
       "          SourceName  NUM_RAND  \n",
       "0      totaljobs.com  0.829497  \n",
       "1     staffnurse.com  0.280129  \n",
       "2  Third Sector Jobs  0.848884  \n",
       "3       TotallyLegal  0.990198  \n",
       "4      totaljobs.com  0.845982  "
      ]
     },
     "execution_count": 75,
     "metadata": {},
     "output_type": "execute_result"
    }
   ],
   "source": [
    "data_test.head()"
   ]
  },
  {
   "cell_type": "code",
   "execution_count": 76,
   "id": "147fd25a",
   "metadata": {},
   "outputs": [
    {
     "name": "stdout",
     "output_type": "stream",
     "text": [
      "Title\n",
      "FullDescription\n",
      "LocationRaw\n",
      "LocationNormalized\n",
      "ContractType\n",
      "ContractTime\n",
      "Company\n",
      "Category\n",
      "SourceName\n"
     ]
    }
   ],
   "source": [
    "# Check for string label\n",
    "for label,content in data_test.items():\n",
    "    if pd.api.types.is_string_dtype(content):\n",
    "        print(label)"
   ]
  },
  {
   "cell_type": "code",
   "execution_count": 77,
   "id": "54255313",
   "metadata": {},
   "outputs": [
    {
     "name": "stdout",
     "output_type": "stream",
     "text": [
      "Id\n",
      "NUM_RAND\n"
     ]
    }
   ],
   "source": [
    "# Check for numerical label\n",
    "for label,content in data_test.items():\n",
    "    if pd.api.types.is_numeric_dtype(content):\n",
    "        print(label)"
   ]
  },
  {
   "cell_type": "code",
   "execution_count": 78,
   "id": "c09ed107",
   "metadata": {},
   "outputs": [],
   "source": [
    "data_test = data_test.drop(['Id','NUM_RAND'], axis=1)"
   ]
  },
  {
   "cell_type": "code",
   "execution_count": 79,
   "id": "3d32803d",
   "metadata": {},
   "outputs": [
    {
     "data": {
      "text/plain": [
       "((12000, 20), (12000,))"
      ]
     },
     "execution_count": 79,
     "metadata": {},
     "output_type": "execute_result"
    }
   ],
   "source": [
    "# This will turn all of the string value into category values\n",
    "for label, content in data_test.items():\n",
    "    if pd.api.types.is_string_dtype(content):\n",
    "        data_test[label] = content.astype(\"category\").cat.as_ordered()\n",
    "# Filling missing values\n",
    "for label,content in data_test.items():\n",
    "    if not pd.api.types.is_numeric_dtype(content):\n",
    "        # Add binary column to indicate whether sample had missing value\n",
    "        data_test[label+\"_is_missing\"]=pd.isnull(content)\n",
    "        # Turn categories into numbers and add+1\n",
    "        data_test[label] = pd.Categorical(content).codes+1\n",
    "X_test.shape,y_test.shape  "
   ]
  },
  {
   "cell_type": "code",
   "execution_count": 80,
   "id": "e53f441b",
   "metadata": {},
   "outputs": [
    {
     "data": {
      "text/plain": [
       "{'Category',\n",
       " 'Category_is_missing',\n",
       " 'Company',\n",
       " 'Company_is_missing',\n",
       " 'ContractTime',\n",
       " 'ContractTime_is_missing',\n",
       " 'ContractType',\n",
       " 'ContractType_is_missing',\n",
       " 'FullDescription',\n",
       " 'FullDescription_is_missing',\n",
       " 'LocationNormalized',\n",
       " 'LocationNormalized_is_missing',\n",
       " 'LocationRaw',\n",
       " 'LocationRaw_is_missing',\n",
       " 'SalaryRaw',\n",
       " 'SalaryRaw_is_missing',\n",
       " 'SourceName',\n",
       " 'SourceName_is_missing',\n",
       " 'Title',\n",
       " 'Title_is_missing'}"
      ]
     },
     "execution_count": 80,
     "metadata": {},
     "output_type": "execute_result"
    }
   ],
   "source": [
    "# Reshape X_train & df_test\n",
    "set(X_train.columns)"
   ]
  },
  {
   "cell_type": "code",
   "execution_count": 81,
   "id": "40a02fb8",
   "metadata": {},
   "outputs": [
    {
     "data": {
      "text/plain": [
       "{'Category',\n",
       " 'Category_is_missing',\n",
       " 'Company',\n",
       " 'Company_is_missing',\n",
       " 'ContractTime',\n",
       " 'ContractTime_is_missing',\n",
       " 'ContractType',\n",
       " 'ContractType_is_missing',\n",
       " 'FullDescription',\n",
       " 'FullDescription_is_missing',\n",
       " 'LocationNormalized',\n",
       " 'LocationNormalized_is_missing',\n",
       " 'LocationRaw',\n",
       " 'LocationRaw_is_missing',\n",
       " 'SourceName',\n",
       " 'SourceName_is_missing',\n",
       " 'Title',\n",
       " 'Title_is_missing'}"
      ]
     },
     "execution_count": 81,
     "metadata": {},
     "output_type": "execute_result"
    }
   ],
   "source": [
    "set(data_test.columns)"
   ]
  },
  {
   "cell_type": "code",
   "execution_count": 82,
   "id": "ae156b19",
   "metadata": {},
   "outputs": [
    {
     "data": {
      "text/plain": [
       "{'SalaryRaw', 'SalaryRaw_is_missing'}"
      ]
     },
     "execution_count": 82,
     "metadata": {},
     "output_type": "execute_result"
    }
   ],
   "source": [
    "# Reshape X_train & df_test\n",
    "set(X_train.columns)-set(data_test.columns)"
   ]
  },
  {
   "cell_type": "code",
   "execution_count": 83,
   "id": "96384ab3",
   "metadata": {},
   "outputs": [],
   "source": [
    "data_test[\"SalaryRaw\"] = False\n",
    "data_test[\"SalaryRaw_is_missing\"] = False"
   ]
  },
  {
   "cell_type": "code",
   "execution_count": 87,
   "id": "98bdc211",
   "metadata": {},
   "outputs": [
    {
     "data": {
      "text/plain": [
       "((47998, 20), (29998, 20))"
      ]
     },
     "execution_count": 87,
     "metadata": {},
     "output_type": "execute_result"
    }
   ],
   "source": [
    "X_train.shape, data_test.shape"
   ]
  },
  {
   "cell_type": "code",
   "execution_count": 88,
   "id": "2af63364",
   "metadata": {},
   "outputs": [],
   "source": [
    "# Make predictions\n",
    "y_pred = regressor_rf.predict(data_test)"
   ]
  },
  {
   "cell_type": "code",
   "execution_count": 89,
   "id": "9ec2417e",
   "metadata": {},
   "outputs": [],
   "source": [
    "df_preds = pd.DataFrame()\n",
    "df_preds[\"SalaryNormalized\"] = y_pred\n",
    "df_preds.head()\n",
    "df_preds.to_csv(\".//Submission.csv\",index=False)"
   ]
  },
  {
   "cell_type": "code",
   "execution_count": 90,
   "id": "67cfe178",
   "metadata": {},
   "outputs": [
    {
     "data": {
      "text/plain": [
       "array([0.02448411, 0.02326279, 0.01843415, 0.01258857, 0.02323877,\n",
       "       0.05287271, 0.02386203, 0.04373787, 0.67441104, 0.07395197,\n",
       "       0.        , 0.        , 0.        , 0.        , 0.00219685,\n",
       "       0.02695914, 0.        , 0.        , 0.        , 0.        ])"
      ]
     },
     "execution_count": 90,
     "metadata": {},
     "output_type": "execute_result"
    }
   ],
   "source": [
    "# Find feature importance of our best model\n",
    "regressor_rf.feature_importances_"
   ]
  },
  {
   "cell_type": "code",
   "execution_count": 91,
   "id": "2218ab53",
   "metadata": {},
   "outputs": [],
   "source": [
    "# Helper function for plotting feature importance\n",
    "def plot_features(columns, importances, n=20):\n",
    "    df = (pd.DataFrame({\"features\": columns,\n",
    "                        \"feature_importances\": importances})\n",
    "          .sort_values(\"feature_importances\", ascending=False)\n",
    "          .reset_index(drop=True))\n",
    "    \n",
    "    # Plot the dataframe\n",
    "    fig, ax = plt.subplots()\n",
    "    ax.barh(df[\"features\"][:n], df[\"feature_importances\"][:20])\n",
    "    ax.set_ylabel(\"Features\")\n",
    "    ax.set_xlabel(\"Feature importance\")\n",
    "    ax.invert_yaxis()"
   ]
  },
  {
   "cell_type": "code",
   "execution_count": 93,
   "id": "2e0b1ffb",
   "metadata": {},
   "outputs": [
    {
     "data": {
      "image/png": "[encoded data removed]",
      "text/plain": [
       "<Figure size 432x288 with 1 Axes>"
      ]
     },
     "metadata": {
      "needs_background": "light"
     },
     "output_type": "display_data"
    }
   ],
   "source": [
    "plot_features(data_test.columns,regressor_rf.feature_importances_)"
   ]
  }
 ],
 "metadata": {
  "kernelspec": {
   "display_name": "Python 3 (ipykernel)",
   "language": "python",
   "name": "python3"
  },
  "language_info": {
   "codemirror_mode": {
    "name": "ipython",
    "version": 3
   },
   "file_extension": ".py",
   "mimetype": "text/x-python",
   "name": "python",
   "nbconvert_exporter": "python",
   "pygments_lexer": "ipython3",
   "version": "3.9.7"
  }
 },
 "nbformat": 4,
 "nbformat_minor": 5
}
